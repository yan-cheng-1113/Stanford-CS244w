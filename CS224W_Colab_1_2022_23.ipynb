{
  "nbformat": 4,
  "nbformat_minor": 0,
  "metadata": {
    "kernelspec": {
      "display_name": "Python 3",
      "name": "python3"
    },
    "language_info": {
      "codemirror_mode": {
        "name": "ipython",
        "version": 3
      },
      "file_extension": ".py",
      "mimetype": "text/x-python",
      "name": "python",
      "nbconvert_exporter": "python",
      "pygments_lexer": "ipython3",
      "version": "3.7.3"
    },
    "colab": {
      "provenance": [],
      "gpuType": "T4"
    },
    "accelerator": "GPU"
  },
  "cells": [
    {
      "cell_type": "markdown",
      "metadata": {
        "id": "XuXWJLEm2UWS"
      },
      "source": [
        "# **CS224W - Colab 1**"
      ]
    },
    {
      "cell_type": "markdown",
      "metadata": {
        "id": "8gzsP50bF6Gb"
      },
      "source": [
        "In this Colab, we will write a full pipeline for **learning node embeddings**.\n",
        "We will go through the following 3 steps.\n",
        "\n",
        "To start, we will load a classic graph in network science, the [Karate Club Network](https://en.wikipedia.org/wiki/Zachary%27s_karate_club). We will explore multiple graph statistics for that graph.\n",
        "\n",
        "We will then work together to transform the graph structure into a PyTorch tensor, so that we can perform machine learning over the graph.\n",
        "\n",
        "Finally, we will finish the first learning algorithm on graphs: a node embedding model. For simplicity, our model here is simpler than DeepWalk / node2vec algorithms taught in the lecture. But it's still rewarding and challenging, as we will write it from scratch via PyTorch.\n",
        "\n",
        "Now let's get started! This Colab should take roughly 1 hour to complete.\n",
        "\n",
        "**Note**: Make sure to **restart and run all** before submission, so that the intermediate variables / packages will carry over to the next cell"
      ]
    },
    {
      "cell_type": "markdown",
      "metadata": {
        "id": "Nwwq0nSdmsOL"
      },
      "source": [
        "# 1 Graph Basics\n",
        "To start, we will load a classic graph in network science, the [Karate Club Network](https://en.wikipedia.org/wiki/Zachary%27s_karate_club). We will explore multiple graph statistics for that graph."
      ]
    },
    {
      "cell_type": "markdown",
      "metadata": {
        "id": "FDkpByYYfSzb"
      },
      "source": [
        "## Setup\n",
        "We will heavily use NetworkX in this Colab."
      ]
    },
    {
      "cell_type": "code",
      "metadata": {
        "id": "VWPkJjPAfVNW"
      },
      "source": [
        "import networkx as nx"
      ],
      "execution_count": null,
      "outputs": []
    },
    {
      "cell_type": "markdown",
      "metadata": {
        "id": "VqUnYT5qUZYh"
      },
      "source": [
        "## Zachary's karate club network\n",
        "\n",
        "The [Karate Club Network](https://en.wikipedia.org/wiki/Zachary%27s_karate_club) is a graph which describes a social network of 34 members of a karate club and documents links between members who interacted outside the club."
      ]
    },
    {
      "cell_type": "code",
      "metadata": {
        "id": "VIETqEfrfy5Y",
        "colab": {
          "base_uri": "https://localhost:8080/",
          "height": 187
        },
        "outputId": "b25880e7-1a1f-431a-a188-f605471355aa"
      },
      "source": [
        "G = nx.karate_club_graph()\n",
        "\n",
        "# G is an undirected graph\n",
        "type(G)"
      ],
      "execution_count": null,
      "outputs": [
        {
          "output_type": "execute_result",
          "data": {
            "text/plain": [
              "networkx.classes.graph.Graph"
            ],
            "text/html": [
              "<div style=\"max-width:800px; border: 1px solid var(--colab-border-color);\"><style>\n",
              "      pre.function-repr-contents {\n",
              "        overflow-x: auto;\n",
              "        padding: 8px 12px;\n",
              "        max-height: 500px;\n",
              "      }\n",
              "\n",
              "      pre.function-repr-contents.function-repr-contents-collapsed {\n",
              "        cursor: pointer;\n",
              "        max-height: 100px;\n",
              "      }\n",
              "    </style>\n",
              "    <pre style=\"white-space: initial; background:\n",
              "         var(--colab-secondary-surface-color); padding: 8px 12px;\n",
              "         border-bottom: 1px solid var(--colab-border-color);\"><b>networkx.classes.graph.Graph</b><br/>def __init__(incoming_graph_data=None, **attr)</pre><pre class=\"function-repr-contents function-repr-contents-collapsed\" style=\"\"><a class=\"filepath\" style=\"display:none\" href=\"#\">/usr/local/lib/python3.10/dist-packages/networkx/classes/graph.py</a>Base class for undirected graphs.\n",
              "\n",
              "A Graph stores nodes and edges with optional data, or attributes.\n",
              "\n",
              "Graphs hold undirected edges.  Self loops are allowed but multiple\n",
              "(parallel) edges are not.\n",
              "\n",
              "Nodes can be arbitrary (hashable) Python objects with optional\n",
              "key/value attributes, except that `None` is not allowed as a node.\n",
              "\n",
              "Edges are represented as links between nodes with optional\n",
              "key/value attributes.\n",
              "\n",
              "Parameters\n",
              "----------\n",
              "incoming_graph_data : input graph (optional, default: None)\n",
              "    Data to initialize graph. If None (default) an empty\n",
              "    graph is created.  The data can be any format that is supported\n",
              "    by the to_networkx_graph() function, currently including edge list,\n",
              "    dict of dicts, dict of lists, NetworkX graph, 2D NumPy array, SciPy\n",
              "    sparse matrix, or PyGraphviz graph.\n",
              "\n",
              "attr : keyword arguments, optional (default= no attributes)\n",
              "    Attributes to add to graph as key=value pairs.\n",
              "\n",
              "See Also\n",
              "--------\n",
              "DiGraph\n",
              "MultiGraph\n",
              "MultiDiGraph\n",
              "\n",
              "Examples\n",
              "--------\n",
              "Create an empty graph structure (a &quot;null graph&quot;) with no nodes and\n",
              "no edges.\n",
              "\n",
              "&gt;&gt;&gt; G = nx.Graph()\n",
              "\n",
              "G can be grown in several ways.\n",
              "\n",
              "**Nodes:**\n",
              "\n",
              "Add one node at a time:\n",
              "\n",
              "&gt;&gt;&gt; G.add_node(1)\n",
              "\n",
              "Add the nodes from any container (a list, dict, set or\n",
              "even the lines from a file or the nodes from another graph).\n",
              "\n",
              "&gt;&gt;&gt; G.add_nodes_from([2, 3])\n",
              "&gt;&gt;&gt; G.add_nodes_from(range(100, 110))\n",
              "&gt;&gt;&gt; H = nx.path_graph(10)\n",
              "&gt;&gt;&gt; G.add_nodes_from(H)\n",
              "\n",
              "In addition to strings and integers any hashable Python object\n",
              "(except None) can represent a node, e.g. a customized node object,\n",
              "or even another Graph.\n",
              "\n",
              "&gt;&gt;&gt; G.add_node(H)\n",
              "\n",
              "**Edges:**\n",
              "\n",
              "G can also be grown by adding edges.\n",
              "\n",
              "Add one edge,\n",
              "\n",
              "&gt;&gt;&gt; G.add_edge(1, 2)\n",
              "\n",
              "a list of edges,\n",
              "\n",
              "&gt;&gt;&gt; G.add_edges_from([(1, 2), (1, 3)])\n",
              "\n",
              "or a collection of edges,\n",
              "\n",
              "&gt;&gt;&gt; G.add_edges_from(H.edges)\n",
              "\n",
              "If some edges connect nodes not yet in the graph, the nodes\n",
              "are added automatically.  There are no errors when adding\n",
              "nodes or edges that already exist.\n",
              "\n",
              "**Attributes:**\n",
              "\n",
              "Each graph, node, and edge can hold key/value attribute pairs\n",
              "in an associated attribute dictionary (the keys must be hashable).\n",
              "By default these are empty, but can be added or changed using\n",
              "add_edge, add_node or direct manipulation of the attribute\n",
              "dictionaries named graph, node and edge respectively.\n",
              "\n",
              "&gt;&gt;&gt; G = nx.Graph(day=&quot;Friday&quot;)\n",
              "&gt;&gt;&gt; G.graph\n",
              "{&#x27;day&#x27;: &#x27;Friday&#x27;}\n",
              "\n",
              "Add node attributes using add_node(), add_nodes_from() or G.nodes\n",
              "\n",
              "&gt;&gt;&gt; G.add_node(1, time=&quot;5pm&quot;)\n",
              "&gt;&gt;&gt; G.add_nodes_from([3], time=&quot;2pm&quot;)\n",
              "&gt;&gt;&gt; G.nodes[1]\n",
              "{&#x27;time&#x27;: &#x27;5pm&#x27;}\n",
              "&gt;&gt;&gt; G.nodes[1][&quot;room&quot;] = 714  # node must exist already to use G.nodes\n",
              "&gt;&gt;&gt; del G.nodes[1][&quot;room&quot;]  # remove attribute\n",
              "&gt;&gt;&gt; list(G.nodes(data=True))\n",
              "[(1, {&#x27;time&#x27;: &#x27;5pm&#x27;}), (3, {&#x27;time&#x27;: &#x27;2pm&#x27;})]\n",
              "\n",
              "Add edge attributes using add_edge(), add_edges_from(), subscript\n",
              "notation, or G.edges.\n",
              "\n",
              "&gt;&gt;&gt; G.add_edge(1, 2, weight=4.7)\n",
              "&gt;&gt;&gt; G.add_edges_from([(3, 4), (4, 5)], color=&quot;red&quot;)\n",
              "&gt;&gt;&gt; G.add_edges_from([(1, 2, {&quot;color&quot;: &quot;blue&quot;}), (2, 3, {&quot;weight&quot;: 8})])\n",
              "&gt;&gt;&gt; G[1][2][&quot;weight&quot;] = 4.7\n",
              "&gt;&gt;&gt; G.edges[1, 2][&quot;weight&quot;] = 4\n",
              "\n",
              "Warning: we protect the graph data structure by making `G.edges` a\n",
              "read-only dict-like structure. However, you can assign to attributes\n",
              "in e.g. `G.edges[1, 2]`. Thus, use 2 sets of brackets to add/change\n",
              "data attributes: `G.edges[1, 2][&#x27;weight&#x27;] = 4`\n",
              "(For multigraphs: `MG.edges[u, v, key][name] = value`).\n",
              "\n",
              "**Shortcuts:**\n",
              "\n",
              "Many common graph features allow python syntax to speed reporting.\n",
              "\n",
              "&gt;&gt;&gt; 1 in G  # check if node in graph\n",
              "True\n",
              "&gt;&gt;&gt; [n for n in G if n &lt; 3]  # iterate through nodes\n",
              "[1, 2]\n",
              "&gt;&gt;&gt; len(G)  # number of nodes in graph\n",
              "5\n",
              "\n",
              "Often the best way to traverse all edges of a graph is via the neighbors.\n",
              "The neighbors are reported as an adjacency-dict `G.adj` or `G.adjacency()`\n",
              "\n",
              "&gt;&gt;&gt; for n, nbrsdict in G.adjacency():\n",
              "...     for nbr, eattr in nbrsdict.items():\n",
              "...         if &quot;weight&quot; in eattr:\n",
              "...             # Do something useful with the edges\n",
              "...             pass\n",
              "\n",
              "But the edges() method is often more convenient:\n",
              "\n",
              "&gt;&gt;&gt; for u, v, weight in G.edges.data(&quot;weight&quot;):\n",
              "...     if weight is not None:\n",
              "...         # Do something useful with the edges\n",
              "...         pass\n",
              "\n",
              "**Reporting:**\n",
              "\n",
              "Simple graph information is obtained using object-attributes and methods.\n",
              "Reporting typically provides views instead of containers to reduce memory\n",
              "usage. The views update as the graph is updated similarly to dict-views.\n",
              "The objects `nodes`, `edges` and `adj` provide access to data attributes\n",
              "via lookup (e.g. `nodes[n]`, `edges[u, v]`, `adj[u][v]`) and iteration\n",
              "(e.g. `nodes.items()`, `nodes.data(&#x27;color&#x27;)`,\n",
              "`nodes.data(&#x27;color&#x27;, default=&#x27;blue&#x27;)` and similarly for `edges`)\n",
              "Views exist for `nodes`, `edges`, `neighbors()`/`adj` and `degree`.\n",
              "\n",
              "For details on these and other miscellaneous methods, see below.\n",
              "\n",
              "**Subclasses (Advanced):**\n",
              "\n",
              "The Graph class uses a dict-of-dict-of-dict data structure.\n",
              "The outer dict (node_dict) holds adjacency information keyed by node.\n",
              "The next dict (adjlist_dict) represents the adjacency information and holds\n",
              "edge data keyed by neighbor.  The inner dict (edge_attr_dict) represents\n",
              "the edge data and holds edge attribute values keyed by attribute names.\n",
              "\n",
              "Each of these three dicts can be replaced in a subclass by a user defined\n",
              "dict-like object. In general, the dict-like features should be\n",
              "maintained but extra features can be added. To replace one of the\n",
              "dicts create a new graph class by changing the class(!) variable\n",
              "holding the factory for that dict-like structure.\n",
              "\n",
              "node_dict_factory : function, (default: dict)\n",
              "    Factory function to be used to create the dict containing node\n",
              "    attributes, keyed by node id.\n",
              "    It should require no arguments and return a dict-like object\n",
              "\n",
              "node_attr_dict_factory: function, (default: dict)\n",
              "    Factory function to be used to create the node attribute\n",
              "    dict which holds attribute values keyed by attribute name.\n",
              "    It should require no arguments and return a dict-like object\n",
              "\n",
              "adjlist_outer_dict_factory : function, (default: dict)\n",
              "    Factory function to be used to create the outer-most dict\n",
              "    in the data structure that holds adjacency info keyed by node.\n",
              "    It should require no arguments and return a dict-like object.\n",
              "\n",
              "adjlist_inner_dict_factory : function, (default: dict)\n",
              "    Factory function to be used to create the adjacency list\n",
              "    dict which holds edge data keyed by neighbor.\n",
              "    It should require no arguments and return a dict-like object\n",
              "\n",
              "edge_attr_dict_factory : function, (default: dict)\n",
              "    Factory function to be used to create the edge attribute\n",
              "    dict which holds attribute values keyed by attribute name.\n",
              "    It should require no arguments and return a dict-like object.\n",
              "\n",
              "graph_attr_dict_factory : function, (default: dict)\n",
              "    Factory function to be used to create the graph attribute\n",
              "    dict which holds attribute values keyed by attribute name.\n",
              "    It should require no arguments and return a dict-like object.\n",
              "\n",
              "Typically, if your extension doesn&#x27;t impact the data structure all\n",
              "methods will inherit without issue except: `to_directed/to_undirected`.\n",
              "By default these methods create a DiGraph/Graph class and you probably\n",
              "want them to create your extension of a DiGraph/Graph. To facilitate\n",
              "this we define two class variables that you can set in your subclass.\n",
              "\n",
              "to_directed_class : callable, (default: DiGraph or MultiDiGraph)\n",
              "    Class to create a new graph structure in the `to_directed` method.\n",
              "    If `None`, a NetworkX class (DiGraph or MultiDiGraph) is used.\n",
              "\n",
              "to_undirected_class : callable, (default: Graph or MultiGraph)\n",
              "    Class to create a new graph structure in the `to_undirected` method.\n",
              "    If `None`, a NetworkX class (Graph or MultiGraph) is used.\n",
              "\n",
              "**Subclassing Example**\n",
              "\n",
              "Create a low memory graph class that effectively disallows edge\n",
              "attributes by using a single attribute dict for all edges.\n",
              "This reduces the memory used, but you lose edge attributes.\n",
              "\n",
              "&gt;&gt;&gt; class ThinGraph(nx.Graph):\n",
              "...     all_edge_dict = {&quot;weight&quot;: 1}\n",
              "...\n",
              "...     def single_edge_dict(self):\n",
              "...         return self.all_edge_dict\n",
              "...\n",
              "...     edge_attr_dict_factory = single_edge_dict\n",
              "&gt;&gt;&gt; G = ThinGraph()\n",
              "&gt;&gt;&gt; G.add_edge(2, 1)\n",
              "&gt;&gt;&gt; G[2][1]\n",
              "{&#x27;weight&#x27;: 1}\n",
              "&gt;&gt;&gt; G.add_edge(2, 2)\n",
              "&gt;&gt;&gt; G[2][1] is G[2][2]\n",
              "True</pre>\n",
              "      <script>\n",
              "      if (google.colab.kernel.accessAllowed && google.colab.files && google.colab.files.view) {\n",
              "        for (const element of document.querySelectorAll('.filepath')) {\n",
              "          element.style.display = 'block'\n",
              "          element.onclick = (event) => {\n",
              "            event.preventDefault();\n",
              "            event.stopPropagation();\n",
              "            google.colab.files.view(element.textContent, 66);\n",
              "          };\n",
              "        }\n",
              "      }\n",
              "      for (const element of document.querySelectorAll('.function-repr-contents')) {\n",
              "        element.onclick = (event) => {\n",
              "          event.preventDefault();\n",
              "          event.stopPropagation();\n",
              "          element.classList.toggle('function-repr-contents-collapsed');\n",
              "        };\n",
              "      }\n",
              "      </script>\n",
              "      </div>"
            ]
          },
          "metadata": {},
          "execution_count": 2
        }
      ]
    },
    {
      "cell_type": "code",
      "metadata": {
        "id": "hDvf3nm-ors4",
        "colab": {
          "base_uri": "https://localhost:8080/",
          "height": 516
        },
        "outputId": "b06c51e4-91cc-4d37-bbbe-7989850765fa"
      },
      "source": [
        "# Visualize the graph\n",
        "nx.draw(G, with_labels = True)"
      ],
      "execution_count": null,
      "outputs": [
        {
          "output_type": "display_data",
          "data": {
            "text/plain": [
              "<Figure size 640x480 with 1 Axes>"
            ],
            "image/png": "[encoded data removed]"
          },
          "metadata": {}
        }
      ]
    },
    {
      "cell_type": "markdown",
      "metadata": {
        "id": "FX25Y1CrYmgN"
      },
      "source": [
        "## Question 1: What is the average degree of the karate club network? (5 Points)"
      ]
    },
    {
      "cell_type": "code",
      "metadata": {
        "id": "AUhES1VYo3tB",
        "colab": {
          "base_uri": "https://localhost:8080/"
        },
        "outputId": "7fef7cca-cb6d-4e36-cc4d-375471ccb6e2"
      },
      "source": [
        "def average_degree(num_edges, num_nodes):\n",
        "  # TODO: Implement this function that takes number of edges\n",
        "  # and number of nodes, and returns the average node degree of\n",
        "  # the graph. Round the result to nearest integer (for example\n",
        "  # 3.3 will be rounded to 3 and 3.7 will be rounded to 4)\n",
        "\n",
        "\n",
        "\n",
        "  ############# Your code here ############\n",
        "  avg_degree = round(2 * num_edges / num_nodes)\n",
        "  #########################################\n",
        "\n",
        "  return avg_degree\n",
        "\n",
        "num_edges = G.number_of_edges()\n",
        "num_nodes = G.number_of_nodes()\n",
        "avg_degree = average_degree(num_edges, num_nodes)\n",
        "print(\"Average degree of karate club network is {}\".format(avg_degree))"
      ],
      "execution_count": null,
      "outputs": [
        {
          "output_type": "stream",
          "name": "stdout",
          "text": [
            "Average degree of karate club network is 5\n"
          ]
        }
      ]
    },
    {
      "cell_type": "markdown",
      "metadata": {
        "id": "Fk02fD4vYmZI"
      },
      "source": [
        "## Question 2: What is the average clustering coefficient of the karate club network? (5 Points)"
      ]
    },
    {
      "cell_type": "code",
      "metadata": {
        "id": "k15XKEto1aYJ",
        "colab": {
          "base_uri": "https://localhost:8080/"
        },
        "outputId": "7b30ec22-923a-4144-bdc0-036e9dbd322b"
      },
      "source": [
        "def average_clustering_coefficient(G):\n",
        "  # TODO: Implement this function that takes a nx.Graph\n",
        "  # and returns the average clustering coefficient. Round\n",
        "  # the result to 2 decimal places (for example 3.333 will\n",
        "  # be rounded to 3.33 and 3.7571 will be rounded to 3.76)\n",
        "\n",
        "\n",
        "\n",
        "\n",
        "  ############# Your code here ############\n",
        "  ## Note:\n",
        "  ## 1: Please use the appropriate NetworkX clustering function\n",
        "  avg_cluster_coef = round(nx.average_clustering(G), 2)\n",
        "  #########################################\n",
        "\n",
        "  return avg_cluster_coef\n",
        "\n",
        "avg_cluster_coef = average_clustering_coefficient(G)\n",
        "print(\"Average clustering coefficient of karate club network is {}\".format(avg_cluster_coef))"
      ],
      "execution_count": null,
      "outputs": [
        {
          "output_type": "stream",
          "name": "stdout",
          "text": [
            "Average clustering coefficient of karate club network is 0.57\n"
          ]
        }
      ]
    },
    {
      "cell_type": "markdown",
      "metadata": {
        "id": "zghQ-AhXYmP4"
      },
      "source": [
        "## Question 3: What is the PageRank value for node 0 (node with id 0) after one PageRank iteration? (5 Points)\n",
        "\n",
        "Page Rank measures importance of nodes in a graph using the link structure of the web. A “vote” from an important page is worth more. Specifically, if  a page $i$ with importance $r_i$ has $d_i$ out-links, then each link gets $\\frac{r_i}{d_i}$ votes. Thus, the importance of a Page $j$, represented as $r_j$ is the sum of the votes on its in links.\n",
        "$$r_j = \\sum_{i \\rightarrow j} \\frac{r_i}{d_i}$$, where $d_i$ is the out degree of node $i$.\n",
        "\n",
        "The PageRank algorithm (used by Google) outputs a probability distribution which represent the likelihood of a random surfer clicking on links will arrive at any particular page. At each time step, the random surfer has two options\n",
        "- With prob. $\\beta$, follow a link at random\n",
        "- With prob. $1- \\beta$, jump to a random page\n",
        "\n",
        "Thus, the importance of a particular page is calculated with the following PageRank equation:\n",
        " $$r_j = \\sum_{i \\rightarrow j} \\beta \\frac{r_i}{d_i} + (1 - \\beta) \\frac{1}{N}$$\n",
        "\n",
        "Please complete the code block by implementing the above PageRank equation for node 0.\n",
        "\n",
        "Note - You can refer to more information from the slides here - http://snap.stanford.edu/class/cs224w-2020/slides/04-pagerank.pdf\n",
        "\n",
        "\n"
      ]
    },
    {
      "cell_type": "code",
      "metadata": {
        "id": "BOGdWjNc6O7x",
        "colab": {
          "base_uri": "https://localhost:8080/"
        },
        "outputId": "1788798d-836d-45a7-d37d-4a2e7fc180f7"
      },
      "source": [
        "def one_iter_pagerank(G, beta, r0, node_id):\n",
        "  # TODO: Implement this function that takes a nx.Graph, beta, r0 and node id.\n",
        "  # The return value r1 is one interation PageRank value for the input node.\n",
        "  # Please round r1 to 2 decimal places.\n",
        "\n",
        "  r1 = 0\n",
        "\n",
        "  ############# Your code here ############\n",
        "  ## Note:\n",
        "  ## 1: You should not use nx.pagerank\n",
        "  N = G.number_of_nodes()\n",
        "  for node in G.neighbors(node_id):\n",
        "    r1 += beta * r0 / G.degree(node)\n",
        "  r1 += (1 - beta) / N\n",
        "  r1 = round(r1,2)\n",
        "  #########################################\n",
        "\n",
        "  return r1\n",
        "\n",
        "beta = 0.8\n",
        "r0 = 1 / G.number_of_nodes()\n",
        "node = 0\n",
        "r1 = one_iter_pagerank(G, beta, r0, node)\n",
        "print(\"The PageRank value for node 0 after one iteration is {}\".format(r1))"
      ],
      "execution_count": null,
      "outputs": [
        {
          "output_type": "stream",
          "name": "stdout",
          "text": [
            "The PageRank value for node 0 after one iteration is 0.13\n"
          ]
        }
      ]
    },
    {
      "cell_type": "markdown",
      "metadata": {
        "id": "icTcOULeYmIu"
      },
      "source": [
        "## Question 4: What is the (raw) closeness centrality for the karate club network node 5? (5 Points)\n",
        "\n",
        "The equation for closeness centrality is $c(v) = \\frac{1}{\\sum_{u \\neq v}\\text{shortest path length between } u \\text{ and } v}$"
      ]
    },
    {
      "cell_type": "code",
      "metadata": {
        "id": "XbCsq_tl-3ok",
        "colab": {
          "base_uri": "https://localhost:8080/"
        },
        "outputId": "fa13ac05-aa6c-4b3d-80b3-e2f4c3194b00"
      },
      "source": [
        "def closeness_centrality(G, node=5):\n",
        "  # TODO: Implement the function that calculates closeness centrality\n",
        "  # for a node in karate club network. G is the input karate club\n",
        "  # network and node is the node id in the graph. Please round the\n",
        "  # closeness centrality result to 2 decimal places.\n",
        "\n",
        "\n",
        "  ############# Your code here ############\n",
        "\n",
        "  ## Note:\n",
        "  ## 1: You can use networkx closeness centrality function.\n",
        "  ## 2: Notice that networkx closeness centrality returns the normalized\n",
        "  ## closeness directly, which is different from the raw (unnormalized)\n",
        "  ## one that we learned in the lecture.\n",
        "  n = len(nx.node_connected_component(G, node)) # the number of nodes in the connected part of graph containing the node\n",
        "  closeness = nx.closeness_centrality(G)[node] / (n-1)\n",
        "  closeness = round(closeness, 2)\n",
        "  #########################################\n",
        "\n",
        "  return closeness\n",
        "\n",
        "node = 5\n",
        "closeness = closeness_centrality(G, node=node)\n",
        "print(\"The node 5 has closeness centrality {}\".format(closeness))"
      ],
      "execution_count": null,
      "outputs": [
        {
          "output_type": "stream",
          "name": "stdout",
          "text": [
            "The node 5 has closeness centrality 0.01\n"
          ]
        }
      ]
    },
    {
      "cell_type": "markdown",
      "metadata": {
        "id": "-MxvowibYl4x"
      },
      "source": [
        "# 2 Graph to Tensor\n",
        "We will then work together to transform the graph $G$ into a PyTorch tensor, so that we can perform machine learning over the graph."
      ]
    },
    {
      "cell_type": "markdown",
      "metadata": {
        "id": "eDA8PosrA-9V"
      },
      "source": [
        "## Setup\n",
        "Check if PyTorch is properly installed"
      ]
    },
    {
      "cell_type": "code",
      "metadata": {
        "id": "ntuPVat_BAf1",
        "colab": {
          "base_uri": "https://localhost:8080/"
        },
        "outputId": "b8a190a0-f47a-4909-afcd-9d6f78be4f30"
      },
      "source": [
        "import torch\n",
        "print(torch.__version__)"
      ],
      "execution_count": null,
      "outputs": [
        {
          "output_type": "stream",
          "name": "stdout",
          "text": [
            "2.3.1+cu121\n"
          ]
        }
      ]
    },
    {
      "cell_type": "markdown",
      "metadata": {
        "id": "fko_2wSKYlun"
      },
      "source": [
        "## PyTorch tensor basics\n",
        "\n",
        "We can generate PyTorch tensor with all zeros, ones or random values."
      ]
    },
    {
      "cell_type": "code",
      "metadata": {
        "id": "W2ySw3m-A9qF",
        "colab": {
          "base_uri": "https://localhost:8080/"
        },
        "outputId": "fb856bb2-575c-4b6c-8ba5-0f0d336b80d0"
      },
      "source": [
        "# Generate 3 x 4 tensor with all ones\n",
        "ones = torch.ones(3, 4)\n",
        "print(ones)\n",
        "\n",
        "# Generate 3 x 4 tensor with all zeros\n",
        "zeros = torch.zeros(3, 4)\n",
        "print(zeros)\n",
        "\n",
        "# Generate 3 x 4 tensor with random values on the interval [0, 1)\n",
        "random_tensor = torch.rand(3, 4)\n",
        "print(random_tensor)\n",
        "\n",
        "# Get the shape of the tensor\n",
        "print(ones.shape)"
      ],
      "execution_count": null,
      "outputs": [
        {
          "output_type": "stream",
          "name": "stdout",
          "text": [
            "tensor([[1., 1., 1., 1.],\n",
            "        [1., 1., 1., 1.],\n",
            "        [1., 1., 1., 1.]])\n",
            "tensor([[0., 0., 0., 0.],\n",
            "        [0., 0., 0., 0.],\n",
            "        [0., 0., 0., 0.]])\n",
            "tensor([[0.2662, 0.9311, 0.5751, 0.1738],\n",
            "        [0.4093, 0.3779, 0.8966, 0.1674],\n",
            "        [0.5433, 0.7705, 0.5745, 0.9226]])\n",
            "torch.Size([3, 4])\n"
          ]
        }
      ]
    },
    {
      "cell_type": "markdown",
      "metadata": {
        "id": "x8mp66eHBxWC"
      },
      "source": [
        "PyTorch tensor contains elements for a single data type, the `dtype`."
      ]
    },
    {
      "cell_type": "code",
      "metadata": {
        "id": "rQiOvKJJBwq4",
        "colab": {
          "base_uri": "https://localhost:8080/"
        },
        "outputId": "528bbe4e-ff3b-41a8-87b3-d803bfe8833c"
      },
      "source": [
        "# Create a 3 x 4 tensor with all 32-bit floating point zeros\n",
        "zeros = torch.zeros(3, 4, dtype=torch.float32)\n",
        "print(zeros.dtype)\n",
        "\n",
        "# Change the tensor dtype to 64-bit integer\n",
        "zeros = zeros.type(torch.long)\n",
        "print(zeros.dtype)"
      ],
      "execution_count": null,
      "outputs": [
        {
          "output_type": "stream",
          "name": "stdout",
          "text": [
            "torch.float32\n",
            "torch.int64\n"
          ]
        }
      ]
    },
    {
      "cell_type": "markdown",
      "metadata": {
        "id": "I9EfegIRDkk2"
      },
      "source": [
        "## Question 5: Get the edge list of the karate club network and transform it into `torch.LongTensor`. What is the `torch.sum` value of `pos_edge_index` tensor? (10 Points)"
      ]
    },
    {
      "cell_type": "code",
      "metadata": {
        "id": "kEtVxMFID3ZT",
        "colab": {
          "base_uri": "https://localhost:8080/"
        },
        "outputId": "939ddacc-b256-43cd-ed4c-34933fcbf271"
      },
      "source": [
        "def graph_to_edge_list(G):\n",
        "  # TODO: Implement the function that returns the edge list of\n",
        "  # an nx.Graph. The returned edge_list should be a list of tuples\n",
        "  # where each tuple is a tuple representing an edge connected\n",
        "  # by two nodes.\n",
        "\n",
        "\n",
        "  ############# Your code here ############\n",
        "  edge_list = list(G.edges())\n",
        "  #########################################\n",
        "\n",
        "  return edge_list\n",
        "\n",
        "def edge_list_to_tensor(edge_list):\n",
        "  # TODO: Implement the function that transforms the edge_list to\n",
        "  # tensor. The input edge_list is a list of tuples and the resulting\n",
        "  # tensor should have the shape [2, len(edge_list)].\n",
        "\n",
        "\n",
        "  ############# Your code here ############\n",
        "  edge_index = torch.tensor(edge_list).T\n",
        "  #########################################\n",
        "\n",
        "  return edge_index\n",
        "\n",
        "pos_edge_list = graph_to_edge_list(G)\n",
        "pos_edge_index = edge_list_to_tensor(pos_edge_list)\n",
        "print(\"The pos_edge_index tensor has shape {}\".format(pos_edge_index.shape))\n",
        "print(\"The pos_edge_index tensor has sum value {}\".format(torch.sum(pos_edge_index)))"
      ],
      "execution_count": null,
      "outputs": [
        {
          "output_type": "stream",
          "name": "stdout",
          "text": [
            "The pos_edge_index tensor has shape torch.Size([2, 78])\n",
            "The pos_edge_index tensor has sum value 2535\n"
          ]
        }
      ]
    },
    {
      "cell_type": "markdown",
      "metadata": {
        "id": "UBL-ZmdHWqIu"
      },
      "source": [
        "## Question 6: Please implement following function that samples negative edges. Then answer which edges (edge_1 to edge_5) are the negative edges in the karate club network? (10 Points)\n",
        "\n",
        "\"Negative\" edges refer to the edges/links that do not exist in the graph. The term \"negative\" is borrowed from \"negative sampling\" in link prediction. It has nothing to do with the edge weights.\n",
        "\n",
        "For example, given an edge (src, dst), you should check that neither (src, dst) nor (dst, src) are edges in the Graph. If these hold true, then it is a negative edge."
      ]
    },
    {
      "cell_type": "code",
      "metadata": {
        "id": "9N8VT1f8-IJ8",
        "colab": {
          "base_uri": "https://localhost:8080/"
        },
        "outputId": "50314886-aa98-4f4f-ffd7-caf58a001633"
      },
      "source": [
        "import random\n",
        "\n",
        "def sample_negative_edges(G, num_neg_samples):\n",
        "  # TODO: Implement the function that returns a list of negative edges.\n",
        "  # The number of sampled negative edges is num_neg_samples. You do not\n",
        "  # need to consider the corner case when the number of possible negative edges\n",
        "  # is less than num_neg_samples. It should be ok as long as your implementation\n",
        "  # works on the karate club network. In this implementation, self loops should\n",
        "  # not be considered as either a positive or negative edge. Also, notice that\n",
        "  # the karate club network is an undirected graph, if (0, 1) is a positive\n",
        "  # edge, do you think (1, 0) can be a negative one?\n",
        "\n",
        "  neg_edge_list = []\n",
        "  ############# Your code here ############\n",
        "  while len(neg_edge_list) < num_neg_samples:\n",
        "    src = random.randint(0, G.number_of_nodes() - 1)\n",
        "    dst = random.randint(0, G.number_of_nodes() - 1)\n",
        "    if src == dst:\n",
        "      continue\n",
        "    if G.has_edge(src, dst) or G.has_edge(dst, src):\n",
        "      continue\n",
        "    if (src, dst) in neg_edge_list or (dst, src) in neg_edge_list:\n",
        "      continue\n",
        "    neg_edge_list.append((src, dst))\n",
        "  #########################################\n",
        "  print(neg_edge_list)\n",
        "\n",
        "  return neg_edge_list\n",
        "\n",
        "# Sample 78 negative edges\n",
        "neg_edge_list = sample_negative_edges(G, len(pos_edge_list))\n",
        "\n",
        "# Transform the negative edge list to tensor\n",
        "neg_edge_index = edge_list_to_tensor(neg_edge_list)\n",
        "print(\"The neg_edge_index tensor has shape {}\".format(neg_edge_index.shape))\n",
        "\n",
        "# Which of following edges can be negative ones?\n",
        "edge_1 = (7, 1)\n",
        "edge_2 = (1, 33)\n",
        "edge_3 = (33, 22)\n",
        "edge_4 = (0, 4)\n",
        "edge_5 = (4, 2)\n",
        "\n",
        "############# Your code here ############\n",
        "## Note:\n",
        "## 1: For each of the 5 edges, print whether it can be negative edge\n",
        "\n",
        "print(edge_1 not in G.edges())\n",
        "print(edge_2 not in G.edges())\n",
        "print(edge_3 not in G.edges())\n",
        "print(edge_4 not in G.edges())\n",
        "print(edge_5 not in G.edges())\n",
        "#########################################"
      ],
      "execution_count": null,
      "outputs": [
        {
          "output_type": "stream",
          "name": "stdout",
          "text": [
            "[(31, 4), (4, 24), (6, 21), (7, 31), (5, 1), (9, 10), (20, 23), (0, 30), (10, 33), (18, 5), (4, 12), (28, 20), (1, 12), (23, 5), (17, 16), (14, 4), (16, 21), (18, 0), (19, 9), (28, 16), (11, 22), (24, 11), (11, 17), (20, 24), (18, 23), (17, 25), (32, 21), (9, 0), (1, 29), (11, 26), (14, 25), (20, 19), (21, 30), (11, 21), (9, 25), (12, 19), (30, 27), (4, 17), (21, 18), (21, 9), (0, 29), (27, 1), (0, 22), (17, 33), (25, 8), (2, 4), (9, 23), (1, 4), (22, 1), (3, 20), (33, 25), (21, 27), (9, 31), (28, 0), (9, 1), (4, 21), (13, 26), (4, 25), (10, 24), (26, 17), (17, 32), (15, 11), (12, 16), (15, 6), (26, 21), (16, 33), (6, 27), (3, 33), (14, 6), (22, 9), (11, 31), (14, 21), (25, 7), (10, 15), (2, 29), (1, 11), (10, 22), (17, 3)]\n",
            "The neg_edge_index tensor has shape torch.Size([2, 78])\n",
            "False\n",
            "True\n",
            "False\n",
            "False\n",
            "True\n"
          ]
        }
      ]
    },
    {
      "cell_type": "markdown",
      "metadata": {
        "id": "Wk9Q-a-9qGsw"
      },
      "source": [
        "# 3 Node Emebedding Learning\n",
        "\n",
        "Finally, we will finish the first learning algorithm on graphs: a node embedding model.\n"
      ]
    },
    {
      "cell_type": "markdown",
      "metadata": {
        "id": "NDBxRQcZ_dUH"
      },
      "source": [
        "## Setup"
      ]
    },
    {
      "cell_type": "code",
      "metadata": {
        "id": "Lnqn9H6s_ehX",
        "colab": {
          "base_uri": "https://localhost:8080/"
        },
        "outputId": "d6138701-ca4c-4a30-c26d-94664be73a3b"
      },
      "source": [
        "import torch\n",
        "import torch.nn as nn\n",
        "import matplotlib.pyplot as plt\n",
        "from sklearn.decomposition import PCA\n",
        "\n",
        "print(torch.__version__)"
      ],
      "execution_count": null,
      "outputs": [
        {
          "output_type": "stream",
          "name": "stdout",
          "text": [
            "2.3.1+cu121\n"
          ]
        }
      ]
    },
    {
      "cell_type": "markdown",
      "metadata": {
        "id": "6gomAf8vxq0R"
      },
      "source": [
        "To write our own node embedding learning methods, we'll heavily use the [`nn.Embedding`](https://pytorch.org/docs/stable/generated/torch.nn.Embedding.html) module in PyTorch. Let's see how to use `nn.Embedding`:"
      ]
    },
    {
      "cell_type": "code",
      "metadata": {
        "id": "aRiWGuLAx5yx",
        "colab": {
          "base_uri": "https://localhost:8080/"
        },
        "outputId": "b3b89da4-43a7-4e87-de99-6c517c88b14a"
      },
      "source": [
        "# Initialize an embedding layer\n",
        "# Suppose we want to have embedding for 4 items (e.g., nodes)\n",
        "# Each item is represented with 8 dimensional vector\n",
        "\n",
        "emb_sample = nn.Embedding(num_embeddings=4, embedding_dim=8)\n",
        "print('Sample embedding layer: {}'.format(emb_sample))"
      ],
      "execution_count": null,
      "outputs": [
        {
          "output_type": "stream",
          "name": "stdout",
          "text": [
            "Sample embedding layer: Embedding(4, 8)\n"
          ]
        }
      ]
    },
    {
      "cell_type": "markdown",
      "metadata": {
        "id": "bS9qQfeujEVh"
      },
      "source": [
        "We can select items from the embedding matrix, by using Tensor indices"
      ]
    },
    {
      "cell_type": "code",
      "metadata": {
        "id": "9AGIfP4QEDr8",
        "colab": {
          "base_uri": "https://localhost:8080/"
        },
        "outputId": "f33c05e8-607a-4f14-d887-5a65479c45ae"
      },
      "source": [
        "# Select an embedding in emb_sample\n",
        "id = torch.LongTensor([1])\n",
        "print(emb_sample(id))\n",
        "\n",
        "# Select multiple embeddings\n",
        "ids = torch.LongTensor([1, 3])\n",
        "print(emb_sample(ids))\n",
        "\n",
        "# Get the shape of the embedding weight matrix\n",
        "shape = emb_sample.weight.data.shape\n",
        "print(shape)\n",
        "\n",
        "# Overwrite the weight to tensor with all ones\n",
        "emb_sample.weight.data = torch.ones(shape)\n",
        "\n",
        "# Let's check if the emb is indeed initilized\n",
        "ids = torch.LongTensor([0, 3])\n",
        "print(emb_sample(ids))"
      ],
      "execution_count": null,
      "outputs": [
        {
          "output_type": "stream",
          "name": "stdout",
          "text": [
            "tensor([[ 0.5426, -0.0275,  0.5817,  1.5353,  0.9212, -1.3585,  1.3450, -0.7576]],\n",
            "       grad_fn=<EmbeddingBackward0>)\n",
            "tensor([[ 0.5426, -0.0275,  0.5817,  1.5353,  0.9212, -1.3585,  1.3450, -0.7576],\n",
            "        [-1.0997, -1.3539,  0.7713, -0.9125,  0.1591, -1.4981,  1.5648, -0.0791]],\n",
            "       grad_fn=<EmbeddingBackward0>)\n",
            "torch.Size([4, 8])\n",
            "tensor([[1., 1., 1., 1., 1., 1., 1., 1.],\n",
            "        [1., 1., 1., 1., 1., 1., 1., 1.]], grad_fn=<EmbeddingBackward0>)\n"
          ]
        }
      ]
    },
    {
      "cell_type": "markdown",
      "metadata": {
        "id": "8MjBuDKaKIsM"
      },
      "source": [
        "Now, it's your time to create node embedding matrix for the graph we have!\n",
        "- We want to have **16 dimensional** vector for each node in the karate club network.\n",
        "- We want to initalize the matrix under **uniform distribution**, in the range of $[0, 1)$. We suggest you using [`torch.rand`](https://pytorch.org/docs/stable/generated/torch.rand.html)."
      ]
    },
    {
      "cell_type": "code",
      "metadata": {
        "id": "hMszSwRPKGn1",
        "colab": {
          "base_uri": "https://localhost:8080/"
        },
        "outputId": "040e506d-9386-4273-ee28-1c796f4be801"
      },
      "source": [
        "# Please do not change / reset the random seed\n",
        "torch.manual_seed(1)\n",
        "\n",
        "def create_node_emb(num_node=34, embedding_dim=16):\n",
        "  # TODO: Implement this function that will create the node embedding matrix.\n",
        "  # A torch.nn.Embedding layer will be returned. You do not need to change\n",
        "  # the values of num_node and embedding_dim. The weight matrix of returned\n",
        "  # layer should be initialized under uniform distribution.\n",
        "\n",
        "  ############# Your code here ############\n",
        "  emb = nn.Embedding(num_node, embedding_dim, _weight=torch.rand(num_node, embedding_dim))\n",
        "  #########################################\n",
        "\n",
        "  return emb\n",
        "\n",
        "emb = create_node_emb()\n",
        "ids = torch.LongTensor([0, 3])\n",
        "\n",
        "# Print the embedding layer\n",
        "print(\"Embedding: {}\".format(emb))\n",
        "\n",
        "# An example that gets the embeddings for node 0 and 3\n",
        "print(emb(ids))"
      ],
      "execution_count": null,
      "outputs": [
        {
          "output_type": "stream",
          "name": "stdout",
          "text": [
            "Embedding: Embedding(34, 16)\n",
            "tensor([[0.7576, 0.2793, 0.4031, 0.7347, 0.0293, 0.7999, 0.3971, 0.7544, 0.5695,\n",
            "         0.4388, 0.6387, 0.5247, 0.6826, 0.3051, 0.4635, 0.4550],\n",
            "        [0.3556, 0.4452, 0.0193, 0.2616, 0.7713, 0.3785, 0.9980, 0.9008, 0.4766,\n",
            "         0.1663, 0.8045, 0.6552, 0.1768, 0.8248, 0.8036, 0.9434]],\n",
            "       grad_fn=<EmbeddingBackward0>)\n"
          ]
        }
      ]
    },
    {
      "cell_type": "markdown",
      "metadata": {
        "id": "4QfoANibTzyh"
      },
      "source": [
        "## Visualize the initial node embeddings\n",
        "One good way to understand an embedding matrix, is to visualize it in a 2D space.\n",
        "Here, we have implemented an embedding visualization function for you.\n",
        "We first do PCA to reduce the dimensionality of embeddings to a 2D space.\n",
        "Then we visualize each point, colored by the community it belongs to."
      ]
    },
    {
      "cell_type": "code",
      "metadata": {
        "id": "_LCoIkarhfYD",
        "colab": {
          "base_uri": "https://localhost:8080/",
          "height": 522
        },
        "outputId": "1874b050-788f-451b-edf8-147c9d36e41d"
      },
      "source": [
        "def visualize_emb(emb):\n",
        "  X = emb.weight.data.numpy()\n",
        "  pca = PCA(n_components=2)\n",
        "  components = pca.fit_transform(X)\n",
        "  plt.figure(figsize=(6, 6))\n",
        "  club1_x = []\n",
        "  club1_y = []\n",
        "  club2_x = []\n",
        "  club2_y = []\n",
        "  for node in G.nodes(data=True):\n",
        "    if node[1]['club'] == 'Mr. Hi':\n",
        "      club1_x.append(components[node[0]][0])\n",
        "      club1_y.append(components[node[0]][1])\n",
        "    else:\n",
        "      club2_x.append(components[node[0]][0])\n",
        "      club2_y.append(components[node[0]][1])\n",
        "  plt.scatter(club1_x, club1_y, color=\"red\", label=\"Mr. Hi\")\n",
        "  plt.scatter(club2_x, club2_y, color=\"blue\", label=\"Officer\")\n",
        "  plt.legend()\n",
        "  plt.show()\n",
        "\n",
        "# Visualize the initial random embeddding\n",
        "visualize_emb(emb)"
      ],
      "execution_count": null,
      "outputs": [
        {
          "output_type": "display_data",
          "data": {
            "text/plain": [
              "<Figure size 600x600 with 1 Axes>"
            ],
            "image/png": "[encoded data removed]"
          },
          "metadata": {}
        }
      ]
    },
    {
      "cell_type": "markdown",
      "metadata": {
        "id": "bQIyuEz9ANb2"
      },
      "source": [
        "## Question 7: Training the embedding! What is the best performance you can get? Please report both the best loss and accuracy on Gradescope. (20 Points)\n",
        "\n",
        "We want to optimize our embeddings for the task of classifying edges as positive or negative. Given an edge and the embeddings for each node, the dot product of the embeddings, followed by a sigmoid, should give us the likelihood of that edge being either positive (output of sigmoid > 0.5) or negative (output of sigmoid < 0.5).\n",
        "\n",
        "Note that we're using the functions you wrote in the previous questions, _as well as the variables initialized in previous cells_. If you're running into issues, make sure your answers to questions 1-6 are correct."
      ]
    },
    {
      "cell_type": "code",
      "metadata": {
        "id": "RDeQTNNxqH0j",
        "colab": {
          "base_uri": "https://localhost:8080/"
        },
        "outputId": "e7db2451-19bc-43bd-abff-1ae6aa5dc788"
      },
      "source": [
        "from torch.optim import SGD\n",
        "import torch.nn as nn\n",
        "\n",
        "def accuracy(pred, label):\n",
        "  # TODO: Implement the accuracy function. This function takes the\n",
        "  # pred tensor (the resulting tensor after sigmoid) and the label\n",
        "  # tensor (torch.LongTensor). Predicted value greater than 0.5 will\n",
        "  # be classified as label 1. Else it will be classified as label 0.\n",
        "  # The returned accuracy should be rounded to 4 decimal places.\n",
        "  # For example, accuracy 0.82956 will be rounded to 0.8296.\n",
        "  accu = 0\n",
        "  ############# Your code here ###########\n",
        "  accu=round(((pred>0.5)==label).sum().item()/(len(pred)),4)\n",
        "  #########################################\n",
        "\n",
        "  return accu\n",
        "\n",
        "def train(emb, loss_fn, sigmoid, train_label, train_edge):\n",
        "  # TODO: Train the embedding layer here. You can also change epochs and\n",
        "  # learning rate. In general, you need to implement:\n",
        "  # (1) Get the embeddings of the nodes in train_edge\n",
        "  # (2) Dot product the embeddings between each node pair\n",
        "  # (3) Feed the dot product result into sigmoid\n",
        "  # (4) Feed the sigmoid output into the loss_fn\n",
        "  # (5) Print both loss and accuracy of each epoch\n",
        "  # (6) Update the embeddings using the loss and optimizer\n",
        "  # (as a sanity check, the loss should decrease during training)\n",
        "\n",
        "  epochs = 500\n",
        "  learning_rate = 0.1\n",
        "\n",
        "  optimizer = SGD(emb.parameters(), lr=learning_rate, momentum=0.9)\n",
        "\n",
        "  for i in range(epochs):\n",
        "\n",
        "    ############# Your code here ############\n",
        "    optimizer.zero_grad()\n",
        "    embedding = emb(train_edge)\n",
        "    # print(embedding.shape)\n",
        "    dot_product = torch.sum(embedding[0] * embedding[1], dim=1)\n",
        "    pred = sigmoid(dot_product)\n",
        "    loss = loss_fn(pred, train_label)\n",
        "    print(\"Epoch: {}, Loss: {}, Accuracy: {}\".format(i, loss, accuracy(pred, train_label)))\n",
        "    loss.backward()\n",
        "    optimizer.step()\n",
        "    #########################################\n",
        "\n",
        "loss_fn = nn.BCELoss()\n",
        "sigmoid = nn.Sigmoid()\n",
        "\n",
        "print(pos_edge_index.shape)\n",
        "\n",
        "# Generate the positive and negative labels\n",
        "pos_label = torch.ones(pos_edge_index.shape[1], )\n",
        "neg_label = torch.zeros(neg_edge_index.shape[1], )\n",
        "\n",
        "# Concat positive and negative labels into one tensor\n",
        "train_label = torch.cat([pos_label, neg_label], dim=0)\n",
        "# Concat positive and negative edges into one tensor\n",
        "# Since the network is very small, we do not split the edges into val/test sets\n",
        "train_edge = torch.cat([pos_edge_index, neg_edge_index], dim=1)\n",
        "print(train_edge.shape)\n",
        "\n",
        "train(emb, loss_fn, sigmoid, train_label, train_edge)"
      ],
      "execution_count": null,
      "outputs": [
        {
          "output_type": "stream",
          "name": "stdout",
          "text": [
            "torch.Size([2, 78])\n",
            "torch.Size([2, 156])\n",
            "Epoch: 0, Loss: 0.0032463448587805033, Accuracy: 1.0\n",
            "Epoch: 1, Loss: 0.0032460433430969715, Accuracy: 1.0\n",
            "Epoch: 2, Loss: 0.003245475934818387, Accuracy: 1.0\n",
            "Epoch: 3, Loss: 0.0032446682453155518, Accuracy: 1.0\n",
            "Epoch: 4, Loss: 0.003243638901039958, Accuracy: 1.0\n",
            "Epoch: 5, Loss: 0.0032424211967736483, Accuracy: 1.0\n",
            "Epoch: 6, Loss: 0.0032410200219601393, Accuracy: 1.0\n",
            "Epoch: 7, Loss: 0.0032394619192928076, Accuracy: 1.0\n",
            "Epoch: 8, Loss: 0.0032377641182392836, Accuracy: 1.0\n",
            "Epoch: 9, Loss: 0.0032359373290091753, Accuracy: 1.0\n",
            "Epoch: 10, Loss: 0.0032340013422071934, Accuracy: 1.0\n",
            "Epoch: 11, Loss: 0.003231959417462349, Accuracy: 1.0\n",
            "Epoch: 12, Loss: 0.0032298273872584105, Accuracy: 1.0\n",
            "Epoch: 13, Loss: 0.003227615961804986, Accuracy: 1.0\n",
            "Epoch: 14, Loss: 0.003225319553166628, Accuracy: 1.0\n",
            "Epoch: 15, Loss: 0.003222972620278597, Accuracy: 1.0\n",
            "Epoch: 16, Loss: 0.0032205618917942047, Accuracy: 1.0\n",
            "Epoch: 17, Loss: 0.003218101104721427, Accuracy: 1.0\n",
            "Epoch: 18, Loss: 0.0032155949156731367, Accuracy: 1.0\n",
            "Epoch: 19, Loss: 0.003213045420125127, Accuracy: 1.0\n",
            "Epoch: 20, Loss: 0.003210458904504776, Accuracy: 1.0\n",
            "Epoch: 21, Loss: 0.003207836300134659, Accuracy: 1.0\n",
            "Epoch: 22, Loss: 0.0032051880843937397, Accuracy: 1.0\n",
            "Epoch: 23, Loss: 0.0032025121618062258, Accuracy: 1.0\n",
            "Epoch: 24, Loss: 0.003199812490493059, Accuracy: 1.0\n",
            "Epoch: 25, Loss: 0.0031970972195267677, Accuracy: 1.0\n",
            "Epoch: 26, Loss: 0.0031943637877702713, Accuracy: 1.0\n",
            "Epoch: 27, Loss: 0.0031916163861751556, Accuracy: 1.0\n",
            "Epoch: 28, Loss: 0.00318885687738657, Accuracy: 1.0\n",
            "Epoch: 29, Loss: 0.003186082700267434, Accuracy: 1.0\n",
            "Epoch: 30, Loss: 0.0031833015382289886, Accuracy: 1.0\n",
            "Epoch: 31, Loss: 0.0031805154867470264, Accuracy: 1.0\n",
            "Epoch: 32, Loss: 0.0031777149997651577, Accuracy: 1.0\n",
            "Epoch: 33, Loss: 0.003174911020323634, Accuracy: 1.0\n",
            "Epoch: 34, Loss: 0.0031721051782369614, Accuracy: 1.0\n",
            "Epoch: 35, Loss: 0.003169289557263255, Accuracy: 1.0\n",
            "Epoch: 36, Loss: 0.0031664809212088585, Accuracy: 1.0\n",
            "Epoch: 37, Loss: 0.0031636618077754974, Accuracy: 1.0\n",
            "Epoch: 38, Loss: 0.003160843625664711, Accuracy: 1.0\n",
            "Epoch: 39, Loss: 0.003158031962811947, Accuracy: 1.0\n",
            "Epoch: 40, Loss: 0.003155200509354472, Accuracy: 1.0\n",
            "Epoch: 41, Loss: 0.003152384888380766, Accuracy: 1.0\n",
            "Epoch: 42, Loss: 0.003149568336084485, Accuracy: 1.0\n",
            "Epoch: 43, Loss: 0.0031467489898204803, Accuracy: 1.0\n",
            "Epoch: 44, Loss: 0.0031439349986612797, Accuracy: 1.0\n",
            "Epoch: 45, Loss: 0.003141118213534355, Accuracy: 1.0\n",
            "Epoch: 46, Loss: 0.0031383060850203037, Accuracy: 1.0\n",
            "Epoch: 47, Loss: 0.0031354986131191254, Accuracy: 1.0\n",
            "Epoch: 48, Loss: 0.0031326948665082455, Accuracy: 1.0\n",
            "Epoch: 49, Loss: 0.003129884833469987, Accuracy: 1.0\n",
            "Epoch: 50, Loss: 0.0031270829495042562, Accuracy: 1.0\n",
            "Epoch: 51, Loss: 0.003124283393844962, Accuracy: 1.0\n",
            "Epoch: 52, Loss: 0.0031214868649840355, Accuracy: 1.0\n",
            "Epoch: 53, Loss: 0.003118694294244051, Accuracy: 1.0\n",
            "Epoch: 54, Loss: 0.0031159056816250086, Accuracy: 1.0\n",
            "Epoch: 55, Loss: 0.0031131200958043337, Accuracy: 1.0\n",
            "Epoch: 56, Loss: 0.0031103382352739573, Accuracy: 1.0\n",
            "Epoch: 57, Loss: 0.0031075573060661554, Accuracy: 1.0\n",
            "Epoch: 58, Loss: 0.003104784293100238, Accuracy: 1.0\n",
            "Epoch: 59, Loss: 0.0031020124442875385, Accuracy: 1.0\n",
            "Epoch: 60, Loss: 0.0030992492102086544, Accuracy: 1.0\n",
            "Epoch: 61, Loss: 0.003096484113484621, Accuracy: 1.0\n",
            "Epoch: 62, Loss: 0.003093729028478265, Accuracy: 1.0\n",
            "Epoch: 63, Loss: 0.0030909706838428974, Accuracy: 1.0\n",
            "Epoch: 64, Loss: 0.0030882200226187706, Accuracy: 1.0\n",
            "Epoch: 65, Loss: 0.003085473785176873, Accuracy: 1.0\n",
            "Epoch: 66, Loss: 0.003082732204347849, Accuracy: 1.0\n",
            "Epoch: 67, Loss: 0.0030799941159784794, Accuracy: 1.0\n",
            "Epoch: 68, Loss: 0.003077259985730052, Accuracy: 1.0\n",
            "Epoch: 69, Loss: 0.003074530279263854, Accuracy: 1.0\n",
            "Epoch: 70, Loss: 0.0030718035995960236, Accuracy: 1.0\n",
            "Epoch: 71, Loss: 0.003069082507863641, Accuracy: 1.0\n",
            "Epoch: 72, Loss: 0.0030663644429296255, Accuracy: 1.0\n",
            "Epoch: 73, Loss: 0.0030636515002697706, Accuracy: 1.0\n",
            "Epoch: 74, Loss: 0.0030609441455453634, Accuracy: 1.0\n",
            "Epoch: 75, Loss: 0.003058244241401553, Accuracy: 1.0\n",
            "Epoch: 76, Loss: 0.0030555399134755135, Accuracy: 1.0\n",
            "Epoch: 77, Loss: 0.0030528486240655184, Accuracy: 1.0\n",
            "Epoch: 78, Loss: 0.003050152910873294, Accuracy: 1.0\n",
            "Epoch: 79, Loss: 0.0030474660452455282, Accuracy: 1.0\n",
            "Epoch: 80, Loss: 0.0030447833705693483, Accuracy: 1.0\n",
            "Epoch: 81, Loss: 0.0030421013943850994, Accuracy: 1.0\n",
            "Epoch: 82, Loss: 0.0030394287314265966, Accuracy: 1.0\n",
            "Epoch: 83, Loss: 0.003036762122064829, Accuracy: 1.0\n",
            "Epoch: 84, Loss: 0.003034095047041774, Accuracy: 1.0\n",
            "Epoch: 85, Loss: 0.0030314314644783735, Accuracy: 1.0\n",
            "Epoch: 86, Loss: 0.0030287739355117083, Accuracy: 1.0\n",
            "Epoch: 87, Loss: 0.0030261182691901922, Accuracy: 1.0\n",
            "Epoch: 88, Loss: 0.003023468889296055, Accuracy: 1.0\n",
            "Epoch: 89, Loss: 0.0030208288226276636, Accuracy: 1.0\n",
            "Epoch: 90, Loss: 0.0030181873589754105, Accuracy: 1.0\n",
            "Epoch: 91, Loss: 0.0030155472923070192, Accuracy: 1.0\n",
            "Epoch: 92, Loss: 0.003012915840372443, Accuracy: 1.0\n",
            "Epoch: 93, Loss: 0.003010287182405591, Accuracy: 1.0\n",
            "Epoch: 94, Loss: 0.0030076634138822556, Accuracy: 1.0\n",
            "Epoch: 95, Loss: 0.003005047794431448, Accuracy: 1.0\n",
            "Epoch: 96, Loss: 0.003002428449690342, Accuracy: 1.0\n",
            "Epoch: 97, Loss: 0.002999817254021764, Accuracy: 1.0\n",
            "Epoch: 98, Loss: 0.002997208619490266, Accuracy: 1.0\n",
            "Epoch: 99, Loss: 0.002994600683450699, Accuracy: 1.0\n",
            "Epoch: 100, Loss: 0.0029920022934675217, Accuracy: 1.0\n",
            "Epoch: 101, Loss: 0.002989411586895585, Accuracy: 1.0\n",
            "Epoch: 102, Loss: 0.0029868183191865683, Accuracy: 1.0\n",
            "Epoch: 103, Loss: 0.0029842322692275047, Accuracy: 1.0\n",
            "Epoch: 104, Loss: 0.0029816515743732452, Accuracy: 1.0\n",
            "Epoch: 105, Loss: 0.002979073440656066, Accuracy: 1.0\n",
            "Epoch: 106, Loss: 0.002976495772600174, Accuracy: 1.0\n",
            "Epoch: 107, Loss: 0.0029739253222942352, Accuracy: 1.0\n",
            "Epoch: 108, Loss: 0.002971361158415675, Accuracy: 1.0\n",
            "Epoch: 109, Loss: 0.0029687988571822643, Accuracy: 1.0\n",
            "Epoch: 110, Loss: 0.0029662426095455885, Accuracy: 1.0\n",
            "Epoch: 111, Loss: 0.002963683335110545, Accuracy: 1.0\n",
            "Epoch: 112, Loss: 0.0029611338395625353, Accuracy: 1.0\n",
            "Epoch: 113, Loss: 0.002958586672320962, Accuracy: 1.0\n",
            "Epoch: 114, Loss: 0.0029560450930148363, Accuracy: 1.0\n",
            "Epoch: 115, Loss: 0.0029535044450312853, Accuracy: 1.0\n",
            "Epoch: 116, Loss: 0.0029509724117815495, Accuracy: 1.0\n",
            "Epoch: 117, Loss: 0.0029484396800398827, Accuracy: 1.0\n",
            "Epoch: 118, Loss: 0.0029459160286933184, Accuracy: 1.0\n",
            "Epoch: 119, Loss: 0.0029433919116854668, Accuracy: 1.0\n",
            "Epoch: 120, Loss: 0.002940876642242074, Accuracy: 1.0\n",
            "Epoch: 121, Loss: 0.002938357414677739, Accuracy: 1.0\n",
            "Epoch: 122, Loss: 0.002935847733169794, Accuracy: 1.0\n",
            "Epoch: 123, Loss: 0.002933342708274722, Accuracy: 1.0\n",
            "Epoch: 124, Loss: 0.002930838381871581, Accuracy: 1.0\n",
            "Epoch: 125, Loss: 0.002928337547928095, Accuracy: 1.0\n",
            "Epoch: 126, Loss: 0.0029258455615490675, Accuracy: 1.0\n",
            "Epoch: 127, Loss: 0.0029233526438474655, Accuracy: 1.0\n",
            "Epoch: 128, Loss: 0.002920864848420024, Accuracy: 1.0\n",
            "Epoch: 129, Loss: 0.0029183831065893173, Accuracy: 1.0\n",
            "Epoch: 130, Loss: 0.0029159034602344036, Accuracy: 1.0\n",
            "Epoch: 131, Loss: 0.0029134289361536503, Accuracy: 1.0\n",
            "Epoch: 132, Loss: 0.0029109546449035406, Accuracy: 1.0\n",
            "Epoch: 133, Loss: 0.0029084868729114532, Accuracy: 1.0\n",
            "Epoch: 134, Loss: 0.0029060200322419405, Accuracy: 1.0\n",
            "Epoch: 135, Loss: 0.0029035608749836683, Accuracy: 1.0\n",
            "Epoch: 136, Loss: 0.0029011035803705454, Accuracy: 1.0\n",
            "Epoch: 137, Loss: 0.0028986502438783646, Accuracy: 1.0\n",
            "Epoch: 138, Loss: 0.0028962029609829187, Accuracy: 1.0\n",
            "Epoch: 139, Loss: 0.002893761033192277, Accuracy: 1.0\n",
            "Epoch: 140, Loss: 0.002891317242756486, Accuracy: 1.0\n",
            "Epoch: 141, Loss: 0.0028888836968690157, Accuracy: 1.0\n",
            "Epoch: 142, Loss: 0.0028864513151347637, Accuracy: 1.0\n",
            "Epoch: 143, Loss: 0.0028840159066021442, Accuracy: 1.0\n",
            "Epoch: 144, Loss: 0.00288159167394042, Accuracy: 1.0\n",
            "Epoch: 145, Loss: 0.002879164647310972, Accuracy: 1.0\n",
            "Epoch: 146, Loss: 0.0028767473995685577, Accuracy: 1.0\n",
            "Epoch: 147, Loss: 0.002874333644285798, Accuracy: 1.0\n",
            "Epoch: 148, Loss: 0.0028719205874949694, Accuracy: 1.0\n",
            "Epoch: 149, Loss: 0.0028695135843008757, Accuracy: 1.0\n",
            "Epoch: 150, Loss: 0.0028671068139374256, Accuracy: 1.0\n",
            "Epoch: 151, Loss: 0.0028647047001868486, Accuracy: 1.0\n",
            "Epoch: 152, Loss: 0.0028623142279684544, Accuracy: 1.0\n",
            "Epoch: 153, Loss: 0.002859916538000107, Accuracy: 1.0\n",
            "Epoch: 154, Loss: 0.002857527695596218, Accuracy: 1.0\n",
            "Epoch: 155, Loss: 0.0028551435098052025, Accuracy: 1.0\n",
            "Epoch: 156, Loss: 0.0028527583926916122, Accuracy: 1.0\n",
            "Epoch: 157, Loss: 0.0028503788635134697, Accuracy: 1.0\n",
            "Epoch: 158, Loss: 0.0028480025939643383, Accuracy: 1.0\n",
            "Epoch: 159, Loss: 0.0028456326108425856, Accuracy: 1.0\n",
            "Epoch: 160, Loss: 0.0028432649560272694, Accuracy: 1.0\n",
            "Epoch: 161, Loss: 0.0028409056831151247, Accuracy: 1.0\n",
            "Epoch: 162, Loss: 0.0028385447803884745, Accuracy: 1.0\n",
            "Epoch: 163, Loss: 0.0028361838776618242, Accuracy: 1.0\n",
            "Epoch: 164, Loss: 0.0028338299598544836, Accuracy: 1.0\n",
            "Epoch: 165, Loss: 0.0028314776718616486, Accuracy: 1.0\n",
            "Epoch: 166, Loss: 0.0028291333001106977, Accuracy: 1.0\n",
            "Epoch: 167, Loss: 0.0028267870657145977, Accuracy: 1.0\n",
            "Epoch: 168, Loss: 0.0028244475834071636, Accuracy: 1.0\n",
            "Epoch: 169, Loss: 0.0028221195098012686, Accuracy: 1.0\n",
            "Epoch: 170, Loss: 0.0028197860810905695, Accuracy: 1.0\n",
            "Epoch: 171, Loss: 0.0028174584731459618, Accuracy: 1.0\n",
            "Epoch: 172, Loss: 0.0028151334263384342, Accuracy: 1.0\n",
            "Epoch: 173, Loss: 0.0028128111734986305, Accuracy: 1.0\n",
            "Epoch: 174, Loss: 0.0028104919474571943, Accuracy: 1.0\n",
            "Epoch: 175, Loss: 0.0028081771451979876, Accuracy: 1.0\n",
            "Epoch: 176, Loss: 0.002805866301059723, Accuracy: 1.0\n",
            "Epoch: 177, Loss: 0.002803562441840768, Accuracy: 1.0\n",
            "Epoch: 178, Loss: 0.002801254391670227, Accuracy: 1.0\n",
            "Epoch: 179, Loss: 0.0027989556547254324, Accuracy: 1.0\n",
            "Epoch: 180, Loss: 0.0027966536581516266, Accuracy: 1.0\n",
            "Epoch: 181, Loss: 0.0027943637687712908, Accuracy: 1.0\n",
            "Epoch: 182, Loss: 0.002792067127302289, Accuracy: 1.0\n",
            "Epoch: 183, Loss: 0.0027897830586880445, Accuracy: 1.0\n",
            "Epoch: 184, Loss: 0.0027875052765011787, Accuracy: 1.0\n",
            "Epoch: 185, Loss: 0.0027852216735482216, Accuracy: 1.0\n",
            "Epoch: 186, Loss: 0.002782947150990367, Accuracy: 1.0\n",
            "Epoch: 187, Loss: 0.0027806784491986036, Accuracy: 1.0\n",
            "Epoch: 188, Loss: 0.002778399270027876, Accuracy: 1.0\n",
            "Epoch: 189, Loss: 0.0027761380188167095, Accuracy: 1.0\n",
            "Epoch: 190, Loss: 0.0027738704811781645, Accuracy: 1.0\n",
            "Epoch: 191, Loss: 0.002771614585071802, Accuracy: 1.0\n",
            "Epoch: 192, Loss: 0.0027693603187799454, Accuracy: 1.0\n",
            "Epoch: 193, Loss: 0.0027671046555042267, Accuracy: 1.0\n",
            "Epoch: 194, Loss: 0.002764854347333312, Accuracy: 1.0\n",
            "Epoch: 195, Loss: 0.0027626114897429943, Accuracy: 1.0\n",
            "Epoch: 196, Loss: 0.0027603639755398035, Accuracy: 1.0\n",
            "Epoch: 197, Loss: 0.002758126938715577, Accuracy: 1.0\n",
            "Epoch: 198, Loss: 0.002755890367552638, Accuracy: 1.0\n",
            "Epoch: 199, Loss: 0.0027536547277122736, Accuracy: 1.0\n",
            "Epoch: 200, Loss: 0.002751424442976713, Accuracy: 1.0\n",
            "Epoch: 201, Loss: 0.002749197417870164, Accuracy: 1.0\n",
            "Epoch: 202, Loss: 0.002746976912021637, Accuracy: 1.0\n",
            "Epoch: 203, Loss: 0.002744761062785983, Accuracy: 1.0\n",
            "Epoch: 204, Loss: 0.002742539392784238, Accuracy: 1.0\n",
            "Epoch: 205, Loss: 0.0027403272688388824, Accuracy: 1.0\n",
            "Epoch: 206, Loss: 0.002738116541877389, Accuracy: 1.0\n",
            "Epoch: 207, Loss: 0.002735907444730401, Accuracy: 1.0\n",
            "Epoch: 208, Loss: 0.0027337055653333664, Accuracy: 1.0\n",
            "Epoch: 209, Loss: 0.0027315057814121246, Accuracy: 1.0\n",
            "Epoch: 210, Loss: 0.00272930646315217, Accuracy: 1.0\n",
            "Epoch: 211, Loss: 0.0027271134313195944, Accuracy: 1.0\n",
            "Epoch: 212, Loss: 0.0027249238919466734, Accuracy: 1.0\n",
            "Epoch: 213, Loss: 0.0027227355167269707, Accuracy: 1.0\n",
            "Epoch: 214, Loss: 0.0027205562219023705, Accuracy: 1.0\n",
            "Epoch: 215, Loss: 0.0027183766942471266, Accuracy: 1.0\n",
            "Epoch: 216, Loss: 0.0027161967009305954, Accuracy: 1.0\n",
            "Epoch: 217, Loss: 0.0027140227612107992, Accuracy: 1.0\n",
            "Epoch: 218, Loss: 0.0027118511497974396, Accuracy: 1.0\n",
            "Epoch: 219, Loss: 0.0027096844278275967, Accuracy: 1.0\n",
            "Epoch: 220, Loss: 0.0027075184043496847, Accuracy: 1.0\n",
            "Epoch: 221, Loss: 0.002705354942008853, Accuracy: 1.0\n",
            "Epoch: 222, Loss: 0.0027031986974179745, Accuracy: 1.0\n",
            "Epoch: 223, Loss: 0.002701041754335165, Accuracy: 1.0\n",
            "Epoch: 224, Loss: 0.002698889933526516, Accuracy: 1.0\n",
            "Epoch: 225, Loss: 0.002696739975363016, Accuracy: 1.0\n",
            "Epoch: 226, Loss: 0.002694592345505953, Accuracy: 1.0\n",
            "Epoch: 227, Loss: 0.0026924486737698317, Accuracy: 1.0\n",
            "Epoch: 228, Loss: 0.0026903136167675257, Accuracy: 1.0\n",
            "Epoch: 229, Loss: 0.0026881792582571507, Accuracy: 1.0\n",
            "Epoch: 230, Loss: 0.002686041407287121, Accuracy: 1.0\n",
            "Epoch: 231, Loss: 0.0026839098427444696, Accuracy: 1.0\n",
            "Epoch: 232, Loss: 0.0026817789766937494, Accuracy: 1.0\n",
            "Epoch: 233, Loss: 0.002679660450667143, Accuracy: 1.0\n",
            "Epoch: 234, Loss: 0.002677540061995387, Accuracy: 1.0\n",
            "Epoch: 235, Loss: 0.002675415948033333, Accuracy: 1.0\n",
            "Epoch: 236, Loss: 0.0026733060367405415, Accuracy: 1.0\n",
            "Epoch: 237, Loss: 0.002671192167326808, Accuracy: 1.0\n",
            "Epoch: 238, Loss: 0.0026690836530178785, Accuracy: 1.0\n",
            "Epoch: 239, Loss: 0.0026669763028621674, Accuracy: 1.0\n",
            "Epoch: 240, Loss: 0.0026648719795048237, Accuracy: 1.0\n",
            "Epoch: 241, Loss: 0.002662771148607135, Accuracy: 1.0\n",
            "Epoch: 242, Loss: 0.002660674275830388, Accuracy: 1.0\n",
            "Epoch: 243, Loss: 0.0026585834566503763, Accuracy: 1.0\n",
            "Epoch: 244, Loss: 0.002656488912180066, Accuracy: 1.0\n",
            "Epoch: 245, Loss: 0.0026544034481048584, Accuracy: 1.0\n",
            "Epoch: 246, Loss: 0.0026523198466748, Accuracy: 1.0\n",
            "Epoch: 247, Loss: 0.0026502388063818216, Accuracy: 1.0\n",
            "Epoch: 248, Loss: 0.002648157998919487, Accuracy: 1.0\n",
            "Epoch: 249, Loss: 0.002646084874868393, Accuracy: 1.0\n",
            "Epoch: 250, Loss: 0.002644010353833437, Accuracy: 1.0\n",
            "Epoch: 251, Loss: 0.002641943981871009, Accuracy: 1.0\n",
            "Epoch: 252, Loss: 0.0026398731861263514, Accuracy: 1.0\n",
            "Epoch: 253, Loss: 0.002637808909639716, Accuracy: 1.0\n",
            "Epoch: 254, Loss: 0.002635751385241747, Accuracy: 1.0\n",
            "Epoch: 255, Loss: 0.002633692929521203, Accuracy: 1.0\n",
            "Epoch: 256, Loss: 0.002631638664752245, Accuracy: 1.0\n",
            "Epoch: 257, Loss: 0.0026295874267816544, Accuracy: 1.0\n",
            "Epoch: 258, Loss: 0.0026275392156094313, Accuracy: 1.0\n",
            "Epoch: 259, Loss: 0.002625489141792059, Accuracy: 1.0\n",
            "Epoch: 260, Loss: 0.002623446751385927, Accuracy: 1.0\n",
            "Epoch: 261, Loss: 0.0026214048266410828, Accuracy: 1.0\n",
            "Epoch: 262, Loss: 0.0026193668600171804, Accuracy: 1.0\n",
            "Epoch: 263, Loss: 0.002617337042465806, Accuracy: 1.0\n",
            "Epoch: 264, Loss: 0.0026153025683015585, Accuracy: 1.0\n",
            "Epoch: 265, Loss: 0.002613271353766322, Accuracy: 1.0\n",
            "Epoch: 266, Loss: 0.0026112529449164867, Accuracy: 1.0\n",
            "Epoch: 267, Loss: 0.0026092242915183306, Accuracy: 1.0\n",
            "Epoch: 268, Loss: 0.0026072023902088404, Accuracy: 1.0\n",
            "Epoch: 269, Loss: 0.002605185844004154, Accuracy: 1.0\n",
            "Epoch: 270, Loss: 0.0026031741872429848, Accuracy: 1.0\n",
            "Epoch: 271, Loss: 0.0026011590380221605, Accuracy: 1.0\n",
            "Epoch: 272, Loss: 0.002599153434857726, Accuracy: 1.0\n",
            "Epoch: 273, Loss: 0.002597145503386855, Accuracy: 1.0\n",
            "Epoch: 274, Loss: 0.0025951419956982136, Accuracy: 1.0\n",
            "Epoch: 275, Loss: 0.002593139186501503, Accuracy: 1.0\n",
            "Epoch: 276, Loss: 0.0025911456905305386, Accuracy: 1.0\n",
            "Epoch: 277, Loss: 0.0025891526602208614, Accuracy: 1.0\n",
            "Epoch: 278, Loss: 0.0025871582329273224, Accuracy: 1.0\n",
            "Epoch: 279, Loss: 0.0025851689279079437, Accuracy: 1.0\n",
            "Epoch: 280, Loss: 0.00258318311534822, Accuracy: 1.0\n",
            "Epoch: 281, Loss: 0.0025811989326030016, Accuracy: 1.0\n",
            "Epoch: 282, Loss: 0.0025792201049625874, Accuracy: 1.0\n",
            "Epoch: 283, Loss: 0.002577240578830242, Accuracy: 1.0\n",
            "Epoch: 284, Loss: 0.002575264312326908, Accuracy: 1.0\n",
            "Epoch: 285, Loss: 0.0025732906069606543, Accuracy: 1.0\n",
            "Epoch: 286, Loss: 0.002571322023868561, Accuracy: 1.0\n",
            "Epoch: 287, Loss: 0.002569356467574835, Accuracy: 1.0\n",
            "Epoch: 288, Loss: 0.002567390678450465, Accuracy: 1.0\n",
            "Epoch: 289, Loss: 0.0025654316414147615, Accuracy: 1.0\n",
            "Epoch: 290, Loss: 0.002563471905887127, Accuracy: 1.0\n",
            "Epoch: 291, Loss: 0.002561517059803009, Accuracy: 1.0\n",
            "Epoch: 292, Loss: 0.002559561049565673, Accuracy: 1.0\n",
            "Epoch: 293, Loss: 0.0025576120242476463, Accuracy: 1.0\n",
            "Epoch: 294, Loss: 0.002555666957050562, Accuracy: 1.0\n",
            "Epoch: 295, Loss: 0.0025537200272083282, Accuracy: 1.0\n",
            "Epoch: 296, Loss: 0.0025517770554870367, Accuracy: 1.0\n",
            "Epoch: 297, Loss: 0.0025498350150883198, Accuracy: 1.0\n",
            "Epoch: 298, Loss: 0.0025479034520685673, Accuracy: 1.0\n",
            "Epoch: 299, Loss: 0.0025459660682827234, Accuracy: 1.0\n",
            "Epoch: 300, Loss: 0.002544040558859706, Accuracy: 1.0\n",
            "Epoch: 301, Loss: 0.002542105969041586, Accuracy: 1.0\n",
            "Epoch: 302, Loss: 0.0025401790626347065, Accuracy: 1.0\n",
            "Epoch: 303, Loss: 0.0025382572785019875, Accuracy: 1.0\n",
            "Epoch: 304, Loss: 0.002536340383812785, Accuracy: 1.0\n",
            "Epoch: 305, Loss: 0.0025344197638332844, Accuracy: 1.0\n",
            "Epoch: 306, Loss: 0.0025325024034827948, Accuracy: 1.0\n",
            "Epoch: 307, Loss: 0.0025305922608822584, Accuracy: 1.0\n",
            "Epoch: 308, Loss: 0.0025286816526204348, Accuracy: 1.0\n",
            "Epoch: 309, Loss: 0.0025267726741731167, Accuracy: 1.0\n",
            "Epoch: 310, Loss: 0.0025248671881854534, Accuracy: 1.0\n",
            "Epoch: 311, Loss: 0.0025229661259800196, Accuracy: 1.0\n",
            "Epoch: 312, Loss: 0.0025210685562342405, Accuracy: 1.0\n",
            "Epoch: 313, Loss: 0.002519167959690094, Accuracy: 1.0\n",
            "Epoch: 314, Loss: 0.0025172752793878317, Accuracy: 1.0\n",
            "Epoch: 315, Loss: 0.0025153886526823044, Accuracy: 1.0\n",
            "Epoch: 316, Loss: 0.0025134964380413294, Accuracy: 1.0\n",
            "Epoch: 317, Loss: 0.0025116093456745148, Accuracy: 1.0\n",
            "Epoch: 318, Loss: 0.002509726444259286, Accuracy: 1.0\n",
            "Epoch: 319, Loss: 0.002507842378690839, Accuracy: 1.0\n",
            "Epoch: 320, Loss: 0.0025059636682271957, Accuracy: 1.0\n",
            "Epoch: 321, Loss: 0.0025040870532393456, Accuracy: 1.0\n",
            "Epoch: 322, Loss: 0.002502215327695012, Accuracy: 1.0\n",
            "Epoch: 323, Loss: 0.002500341273844242, Accuracy: 1.0\n",
            "Epoch: 324, Loss: 0.002498468616977334, Accuracy: 1.0\n",
            "Epoch: 325, Loss: 0.002496610628440976, Accuracy: 1.0\n",
            "Epoch: 326, Loss: 0.0024947451893240213, Accuracy: 1.0\n",
            "Epoch: 327, Loss: 0.0024928846396505833, Accuracy: 1.0\n",
            "Epoch: 328, Loss: 0.002491025486961007, Accuracy: 1.0\n",
            "Epoch: 329, Loss: 0.0024891679640859365, Accuracy: 1.0\n",
            "Epoch: 330, Loss: 0.002487313700839877, Accuracy: 1.0\n",
            "Epoch: 331, Loss: 0.0024854650255292654, Accuracy: 1.0\n",
            "Epoch: 332, Loss: 0.002483620774000883, Accuracy: 1.0\n",
            "Epoch: 333, Loss: 0.002481770934537053, Accuracy: 1.0\n",
            "Epoch: 334, Loss: 0.0024799311067909002, Accuracy: 1.0\n",
            "Epoch: 335, Loss: 0.002478088019415736, Accuracy: 1.0\n",
            "Epoch: 336, Loss: 0.0024762495886534452, Accuracy: 1.0\n",
            "Epoch: 337, Loss: 0.0024744130205363035, Accuracy: 1.0\n",
            "Epoch: 338, Loss: 0.0024725820403546095, Accuracy: 1.0\n",
            "Epoch: 339, Loss: 0.0024707524571567774, Accuracy: 1.0\n",
            "Epoch: 340, Loss: 0.002468924270942807, Accuracy: 1.0\n",
            "Epoch: 341, Loss: 0.0024670911952853203, Accuracy: 1.0\n",
            "Epoch: 342, Loss: 0.0024652723222970963, Accuracy: 1.0\n",
            "Epoch: 343, Loss: 0.002463452983647585, Accuracy: 1.0\n",
            "Epoch: 344, Loss: 0.0024616322480142117, Accuracy: 1.0\n",
            "Epoch: 345, Loss: 0.002459819195792079, Accuracy: 1.0\n",
            "Epoch: 346, Loss: 0.0024580012541264296, Accuracy: 1.0\n",
            "Epoch: 347, Loss: 0.0024561951868236065, Accuracy: 1.0\n",
            "Epoch: 348, Loss: 0.0024543863255530596, Accuracy: 1.0\n",
            "Epoch: 349, Loss: 0.00245258049108088, Accuracy: 1.0\n",
            "Epoch: 350, Loss: 0.0024507748894393444, Accuracy: 1.0\n",
            "Epoch: 351, Loss: 0.0024489751085639, Accuracy: 1.0\n",
            "Epoch: 352, Loss: 0.002447176491841674, Accuracy: 1.0\n",
            "Epoch: 353, Loss: 0.0024453802034258842, Accuracy: 1.0\n",
            "Epoch: 354, Loss: 0.00244358298368752, Accuracy: 1.0\n",
            "Epoch: 355, Loss: 0.0024417946115136147, Accuracy: 1.0\n",
            "Epoch: 356, Loss: 0.002440002979710698, Accuracy: 1.0\n",
            "Epoch: 357, Loss: 0.002438218565657735, Accuracy: 1.0\n",
            "Epoch: 358, Loss: 0.0024364348500967026, Accuracy: 1.0\n",
            "Epoch: 359, Loss: 0.0024346564896404743, Accuracy: 1.0\n",
            "Epoch: 360, Loss: 0.0024328718427568674, Accuracy: 1.0\n",
            "Epoch: 361, Loss: 0.0024310981389135122, Accuracy: 1.0\n",
            "Epoch: 362, Loss: 0.002429321873933077, Accuracy: 1.0\n",
            "Epoch: 363, Loss: 0.0024275491014122963, Accuracy: 1.0\n",
            "Epoch: 364, Loss: 0.0024257765617221594, Accuracy: 1.0\n",
            "Epoch: 365, Loss: 0.002424007747322321, Accuracy: 1.0\n",
            "Epoch: 366, Loss: 0.0024222475476562977, Accuracy: 1.0\n",
            "Epoch: 367, Loss: 0.002420482225716114, Accuracy: 1.0\n",
            "Epoch: 368, Loss: 0.002418722491711378, Accuracy: 1.0\n",
            "Epoch: 369, Loss: 0.0024169650860130787, Accuracy: 1.0\n",
            "Epoch: 370, Loss: 0.00241520325653255, Accuracy: 1.0\n",
            "Epoch: 371, Loss: 0.0024134553968906403, Accuracy: 1.0\n",
            "Epoch: 372, Loss: 0.0024117028806358576, Accuracy: 1.0\n",
            "Epoch: 373, Loss: 0.0024099552538245916, Accuracy: 1.0\n",
            "Epoch: 374, Loss: 0.0024082064628601074, Accuracy: 1.0\n",
            "Epoch: 375, Loss: 0.002406460465863347, Accuracy: 1.0\n",
            "Epoch: 376, Loss: 0.0024047219194471836, Accuracy: 1.0\n",
            "Epoch: 377, Loss: 0.0024029824417084455, Accuracy: 1.0\n",
            "Epoch: 378, Loss: 0.002401241334155202, Accuracy: 1.0\n",
            "Epoch: 379, Loss: 0.002399506513029337, Accuracy: 1.0\n",
            "Epoch: 380, Loss: 0.0023977786768227816, Accuracy: 1.0\n",
            "Epoch: 381, Loss: 0.0023960520047694445, Accuracy: 1.0\n",
            "Epoch: 382, Loss: 0.002394315553829074, Accuracy: 1.0\n",
            "Epoch: 383, Loss: 0.002392594004049897, Accuracy: 1.0\n",
            "Epoch: 384, Loss: 0.0023908684961497784, Accuracy: 1.0\n",
            "Epoch: 385, Loss: 0.002389149507507682, Accuracy: 1.0\n",
            "Epoch: 386, Loss: 0.002387428190559149, Accuracy: 1.0\n",
            "Epoch: 387, Loss: 0.002385712694376707, Accuracy: 1.0\n",
            "Epoch: 388, Loss: 0.0023839958012104034, Accuracy: 1.0\n",
            "Epoch: 389, Loss: 0.0023822856601327658, Accuracy: 1.0\n",
            "Epoch: 390, Loss: 0.0023805759847164154, Accuracy: 1.0\n",
            "Epoch: 391, Loss: 0.002378867706283927, Accuracy: 1.0\n",
            "Epoch: 392, Loss: 0.0023771601263433695, Accuracy: 1.0\n",
            "Epoch: 393, Loss: 0.0023754602298140526, Accuracy: 1.0\n",
            "Epoch: 394, Loss: 0.0023737598676234484, Accuracy: 1.0\n",
            "Epoch: 395, Loss: 0.002372056944295764, Accuracy: 1.0\n",
            "Epoch: 396, Loss: 0.0023703582119196653, Accuracy: 1.0\n",
            "Epoch: 397, Loss: 0.0023686671629548073, Accuracy: 1.0\n",
            "Epoch: 398, Loss: 0.0023669712245464325, Accuracy: 1.0\n",
            "Epoch: 399, Loss: 0.0023652866948395967, Accuracy: 1.0\n",
            "Epoch: 400, Loss: 0.0023635979741811752, Accuracy: 1.0\n",
            "Epoch: 401, Loss: 0.0023619113489985466, Accuracy: 1.0\n",
            "Epoch: 402, Loss: 0.002360227284952998, Accuracy: 1.0\n",
            "Epoch: 403, Loss: 0.002358547877520323, Accuracy: 1.0\n",
            "Epoch: 404, Loss: 0.0023568710312247276, Accuracy: 1.0\n",
            "Epoch: 405, Loss: 0.002355193952098489, Accuracy: 1.0\n",
            "Epoch: 406, Loss: 0.002353517571464181, Accuracy: 1.0\n",
            "Epoch: 407, Loss: 0.0023518491070717573, Accuracy: 1.0\n",
            "Epoch: 408, Loss: 0.0023501748219132423, Accuracy: 1.0\n",
            "Epoch: 409, Loss: 0.002348506823182106, Accuracy: 1.0\n",
            "Epoch: 410, Loss: 0.0023468416184186935, Accuracy: 1.0\n",
            "Epoch: 411, Loss: 0.002345177112147212, Accuracy: 1.0\n",
            "Epoch: 412, Loss: 0.0023435160983353853, Accuracy: 1.0\n",
            "Epoch: 413, Loss: 0.002341856947168708, Accuracy: 1.0\n",
            "Epoch: 414, Loss: 0.002340201288461685, Accuracy: 1.0\n",
            "Epoch: 415, Loss: 0.0023385488893836737, Accuracy: 1.0\n",
            "Epoch: 416, Loss: 0.002336893929168582, Accuracy: 1.0\n",
            "Epoch: 417, Loss: 0.002335240365937352, Accuracy: 1.0\n",
            "Epoch: 418, Loss: 0.0023335942532867193, Accuracy: 1.0\n",
            "Epoch: 419, Loss: 0.0023319488391280174, Accuracy: 1.0\n",
            "Epoch: 420, Loss: 0.00233030435629189, Accuracy: 1.0\n",
            "Epoch: 421, Loss: 0.002328661037608981, Accuracy: 1.0\n",
            "Epoch: 422, Loss: 0.002327018417418003, Accuracy: 1.0\n",
            "Epoch: 423, Loss: 0.002325386507436633, Accuracy: 1.0\n",
            "Epoch: 424, Loss: 0.0023237462155520916, Accuracy: 1.0\n",
            "Epoch: 425, Loss: 0.002322117332369089, Accuracy: 1.0\n",
            "Epoch: 426, Loss: 0.002320478204637766, Accuracy: 1.0\n",
            "Epoch: 427, Loss: 0.0023188553750514984, Accuracy: 1.0\n",
            "Epoch: 428, Loss: 0.002317225793376565, Accuracy: 1.0\n",
            "Epoch: 429, Loss: 0.0023155990056693554, Accuracy: 1.0\n",
            "Epoch: 430, Loss: 0.0023139778058975935, Accuracy: 1.0\n",
            "Epoch: 431, Loss: 0.0023123605642467737, Accuracy: 1.0\n",
            "Epoch: 432, Loss: 0.0023107368033379316, Accuracy: 1.0\n",
            "Epoch: 433, Loss: 0.0023091156035661697, Accuracy: 1.0\n",
            "Epoch: 434, Loss: 0.0023075093049556017, Accuracy: 1.0\n",
            "Epoch: 435, Loss: 0.002305893227458, Accuracy: 1.0\n",
            "Epoch: 436, Loss: 0.0023042778484523296, Accuracy: 1.0\n",
            "Epoch: 437, Loss: 0.002302671317011118, Accuracy: 1.0\n",
            "Epoch: 438, Loss: 0.002301064319908619, Accuracy: 1.0\n",
            "Epoch: 439, Loss: 0.002299460582435131, Accuracy: 1.0\n",
            "Epoch: 440, Loss: 0.002297857543453574, Accuracy: 1.0\n",
            "Epoch: 441, Loss: 0.0022962610237300396, Accuracy: 1.0\n",
            "Epoch: 442, Loss: 0.002294661244377494, Accuracy: 1.0\n",
            "Epoch: 443, Loss: 0.002293063560500741, Accuracy: 1.0\n",
            "Epoch: 444, Loss: 0.0022914677392691374, Accuracy: 1.0\n",
            "Epoch: 445, Loss: 0.002289875876158476, Accuracy: 1.0\n",
            "Epoch: 446, Loss: 0.0022882844787091017, Accuracy: 1.0\n",
            "Epoch: 447, Loss: 0.0022867002990096807, Accuracy: 1.0\n",
            "Epoch: 448, Loss: 0.0022851114626973867, Accuracy: 1.0\n",
            "Epoch: 449, Loss: 0.0022835279814898968, Accuracy: 1.0\n",
            "Epoch: 450, Loss: 0.002281949622556567, Accuracy: 1.0\n",
            "Epoch: 451, Loss: 0.002280361484736204, Accuracy: 1.0\n",
            "Epoch: 452, Loss: 0.0022787880152463913, Accuracy: 1.0\n",
            "Epoch: 453, Loss: 0.0022772091906517744, Accuracy: 1.0\n",
            "Epoch: 454, Loss: 0.002275636186823249, Accuracy: 1.0\n",
            "Epoch: 455, Loss: 0.0022740643471479416, Accuracy: 1.0\n",
            "Epoch: 456, Loss: 0.0022724932059645653, Accuracy: 1.0\n",
            "Epoch: 457, Loss: 0.002270926721394062, Accuracy: 1.0\n",
            "Epoch: 458, Loss: 0.002269360702484846, Accuracy: 1.0\n",
            "Epoch: 459, Loss: 0.0022677970118820667, Accuracy: 1.0\n",
            "Epoch: 460, Loss: 0.002266238210722804, Accuracy: 1.0\n",
            "Epoch: 461, Loss: 0.0022646719589829445, Accuracy: 1.0\n",
            "Epoch: 462, Loss: 0.00226311176083982, Accuracy: 1.0\n",
            "Epoch: 463, Loss: 0.0022615562193095684, Accuracy: 1.0\n",
            "Epoch: 464, Loss: 0.0022600048687309027, Accuracy: 1.0\n",
            "Epoch: 465, Loss: 0.0022584523539990187, Accuracy: 1.0\n",
            "Epoch: 466, Loss: 0.002256902400404215, Accuracy: 1.0\n",
            "Epoch: 467, Loss: 0.0022553515154868364, Accuracy: 1.0\n",
            "Epoch: 468, Loss: 0.0022538078483194113, Accuracy: 1.0\n",
            "Epoch: 469, Loss: 0.0022522620856761932, Accuracy: 1.0\n",
            "Epoch: 470, Loss: 0.0022507209796458483, Accuracy: 1.0\n",
            "Epoch: 471, Loss: 0.0022491817362606525, Accuracy: 1.0\n",
            "Epoch: 472, Loss: 0.002247641095891595, Accuracy: 1.0\n",
            "Epoch: 473, Loss: 0.0022461051121354103, Accuracy: 1.0\n",
            "Epoch: 474, Loss: 0.0022445672657340765, Accuracy: 1.0\n",
            "Epoch: 475, Loss: 0.0022430336102843285, Accuracy: 1.0\n",
            "Epoch: 476, Loss: 0.002241503680124879, Accuracy: 1.0\n",
            "Epoch: 477, Loss: 0.0022399728186428547, Accuracy: 1.0\n",
            "Epoch: 478, Loss: 0.00223844894208014, Accuracy: 1.0\n",
            "Epoch: 479, Loss: 0.002236921340227127, Accuracy: 1.0\n",
            "Epoch: 480, Loss: 0.002235399791970849, Accuracy: 1.0\n",
            "Epoch: 481, Loss: 0.0022338777780532837, Accuracy: 1.0\n",
            "Epoch: 482, Loss: 0.0022323562297970057, Accuracy: 1.0\n",
            "Epoch: 483, Loss: 0.0022308393381536007, Accuracy: 1.0\n",
            "Epoch: 484, Loss: 0.0022293252404779196, Accuracy: 1.0\n",
            "Epoch: 485, Loss: 0.0022278090473264456, Accuracy: 1.0\n",
            "Epoch: 486, Loss: 0.002226301236078143, Accuracy: 1.0\n",
            "Epoch: 487, Loss: 0.002224785042926669, Accuracy: 1.0\n",
            "Epoch: 488, Loss: 0.0022232781630009413, Accuracy: 1.0\n",
            "Epoch: 489, Loss: 0.002221769653260708, Accuracy: 1.0\n",
            "Epoch: 490, Loss: 0.0022202671971172094, Accuracy: 1.0\n",
            "Epoch: 491, Loss: 0.002218762645497918, Accuracy: 1.0\n",
            "Epoch: 492, Loss: 0.0022172669414430857, Accuracy: 1.0\n",
            "Epoch: 493, Loss: 0.0022157663479447365, Accuracy: 1.0\n",
            "Epoch: 494, Loss: 0.002214268548414111, Accuracy: 1.0\n",
            "Epoch: 495, Loss: 0.002212773310020566, Accuracy: 1.0\n",
            "Epoch: 496, Loss: 0.002211280632764101, Accuracy: 1.0\n",
            "Epoch: 497, Loss: 0.002209785394370556, Accuracy: 1.0\n",
            "Epoch: 498, Loss: 0.0022083015646785498, Accuracy: 1.0\n",
            "Epoch: 499, Loss: 0.0022068095859140158, Accuracy: 1.0\n"
          ]
        }
      ]
    },
    {
      "cell_type": "markdown",
      "metadata": {
        "id": "WX2PSXnTDiNi"
      },
      "source": [
        "## Visualize the final node embeddings\n",
        "Visualize your final embedding here!\n",
        "You can visually compare the figure with the previous embedding figure.\n",
        "After training, you should oberserve that the two classes are more evidently separated.\n",
        "This is a great sanitity check for your implementation as well."
      ]
    },
    {
      "cell_type": "code",
      "metadata": {
        "id": "MtNgl4VhYKow",
        "colab": {
          "base_uri": "https://localhost:8080/",
          "height": 522
        },
        "outputId": "fdcf8465-faa4-47ed-aad0-f6c8ab364913"
      },
      "source": [
        "# Visualize the final learned embedding\n",
        "visualize_emb(emb)"
      ],
      "execution_count": null,
      "outputs": [
        {
          "output_type": "display_data",
          "data": {
            "text/plain": [
              "<Figure size 600x600 with 1 Axes>"
            ],
            "image/png": "[encoded data removed]"
          },
          "metadata": {}
        }
      ]
    },
    {
      "cell_type": "markdown",
      "metadata": {
        "id": "FTNyrAoSVeq9"
      },
      "source": [
        "# Submission"
      ]
    },
    {
      "cell_type": "markdown",
      "metadata": {
        "id": "E_E7J_GkVhY_"
      },
      "source": [
        "In order to get credit, you must go submit your answers on Gradescope."
      ]
    }
  ]
}