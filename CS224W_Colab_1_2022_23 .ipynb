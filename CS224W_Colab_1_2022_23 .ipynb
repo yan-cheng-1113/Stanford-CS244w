{
  "nbformat": 4,
  "nbformat_minor": 0,
  "metadata": {
    "kernelspec": {
      "display_name": "Python 3",
      "name": "python3"
    },
    "language_info": {
      "codemirror_mode": {
        "name": "ipython",
        "version": 3
      },
      "file_extension": ".py",
      "mimetype": "text/x-python",
      "name": "python",
      "nbconvert_exporter": "python",
      "pygments_lexer": "ipython3",
      "version": "3.7.3"
    },
    "colab": {
      "provenance": [],
      "gpuType": "T4"
    },
    "accelerator": "GPU"
  },
  "cells": [
    {
      "cell_type": "markdown",
      "metadata": {
        "id": "XuXWJLEm2UWS"
      },
      "source": [
        "# **CS224W - Colab 1**"
      ]
    },
    {
      "cell_type": "markdown",
      "metadata": {
        "id": "8gzsP50bF6Gb"
      },
      "source": [
        "In this Colab, we will write a full pipeline for **learning node embeddings**.\n",
        "We will go through the following 3 steps.\n",
        "\n",
        "To start, we will load a classic graph in network science, the [Karate Club Network](https://en.wikipedia.org/wiki/Zachary%27s_karate_club). We will explore multiple graph statistics for that graph.\n",
        "\n",
        "We will then work together to transform the graph structure into a PyTorch tensor, so that we can perform machine learning over the graph.\n",
        "\n",
        "Finally, we will finish the first learning algorithm on graphs: a node embedding model. For simplicity, our model here is simpler than DeepWalk / node2vec algorithms taught in the lecture. But it's still rewarding and challenging, as we will write it from scratch via PyTorch.\n",
        "\n",
        "Now let's get started! This Colab should take roughly 1 hour to complete.\n",
        "\n",
        "**Note**: Make sure to **restart and run all** before submission, so that the intermediate variables / packages will carry over to the next cell"
      ]
    },
    {
      "cell_type": "markdown",
      "metadata": {
        "id": "Nwwq0nSdmsOL"
      },
      "source": [
        "# 1 Graph Basics\n",
        "To start, we will load a classic graph in network science, the [Karate Club Network](https://en.wikipedia.org/wiki/Zachary%27s_karate_club). We will explore multiple graph statistics for that graph."
      ]
    },
    {
      "cell_type": "markdown",
      "metadata": {
        "id": "FDkpByYYfSzb"
      },
      "source": [
        "## Setup\n",
        "We will heavily use NetworkX in this Colab."
      ]
    },
    {
      "cell_type": "code",
      "metadata": {
        "id": "VWPkJjPAfVNW"
      },
      "source": [
        "import networkx as nx"
      ],
      "execution_count": 1,
      "outputs": []
    },
    {
      "cell_type": "markdown",
      "metadata": {
        "id": "VqUnYT5qUZYh"
      },
      "source": [
        "## Zachary's karate club network\n",
        "\n",
        "The [Karate Club Network](https://en.wikipedia.org/wiki/Zachary%27s_karate_club) is a graph which describes a social network of 34 members of a karate club and documents links between members who interacted outside the club."
      ]
    },
    {
      "cell_type": "code",
      "metadata": {
        "id": "VIETqEfrfy5Y",
        "colab": {
          "base_uri": "https://localhost:8080/",
          "height": 187
        },
        "outputId": "8a79fca7-2b46-409e-d822-37a326676b4a"
      },
      "source": [
        "G = nx.karate_club_graph()\n",
        "\n",
        "# G is an undirected graph\n",
        "type(G)"
      ],
      "execution_count": 2,
      "outputs": [
        {
          "output_type": "execute_result",
          "data": {
            "text/plain": [
              "networkx.classes.graph.Graph"
            ],
            "text/html": [
              "<div style=\"max-width:800px; border: 1px solid var(--colab-border-color);\"><style>\n",
              "      pre.function-repr-contents {\n",
              "        overflow-x: auto;\n",
              "        padding: 8px 12px;\n",
              "        max-height: 500px;\n",
              "      }\n",
              "\n",
              "      pre.function-repr-contents.function-repr-contents-collapsed {\n",
              "        cursor: pointer;\n",
              "        max-height: 100px;\n",
              "      }\n",
              "    </style>\n",
              "    <pre style=\"white-space: initial; background:\n",
              "         var(--colab-secondary-surface-color); padding: 8px 12px;\n",
              "         border-bottom: 1px solid var(--colab-border-color);\"><b>networkx.classes.graph.Graph</b><br/>def __init__(incoming_graph_data=None, **attr)</pre><pre class=\"function-repr-contents function-repr-contents-collapsed\" style=\"\"><a class=\"filepath\" style=\"display:none\" href=\"#\">/usr/local/lib/python3.10/dist-packages/networkx/classes/graph.py</a>Base class for undirected graphs.\n",
              "\n",
              "A Graph stores nodes and edges with optional data, or attributes.\n",
              "\n",
              "Graphs hold undirected edges.  Self loops are allowed but multiple\n",
              "(parallel) edges are not.\n",
              "\n",
              "Nodes can be arbitrary (hashable) Python objects with optional\n",
              "key/value attributes, except that `None` is not allowed as a node.\n",
              "\n",
              "Edges are represented as links between nodes with optional\n",
              "key/value attributes.\n",
              "\n",
              "Parameters\n",
              "----------\n",
              "incoming_graph_data : input graph (optional, default: None)\n",
              "    Data to initialize graph. If None (default) an empty\n",
              "    graph is created.  The data can be any format that is supported\n",
              "    by the to_networkx_graph() function, currently including edge list,\n",
              "    dict of dicts, dict of lists, NetworkX graph, 2D NumPy array, SciPy\n",
              "    sparse matrix, or PyGraphviz graph.\n",
              "\n",
              "attr : keyword arguments, optional (default= no attributes)\n",
              "    Attributes to add to graph as key=value pairs.\n",
              "\n",
              "See Also\n",
              "--------\n",
              "DiGraph\n",
              "MultiGraph\n",
              "MultiDiGraph\n",
              "\n",
              "Examples\n",
              "--------\n",
              "Create an empty graph structure (a &quot;null graph&quot;) with no nodes and\n",
              "no edges.\n",
              "\n",
              "&gt;&gt;&gt; G = nx.Graph()\n",
              "\n",
              "G can be grown in several ways.\n",
              "\n",
              "**Nodes:**\n",
              "\n",
              "Add one node at a time:\n",
              "\n",
              "&gt;&gt;&gt; G.add_node(1)\n",
              "\n",
              "Add the nodes from any container (a list, dict, set or\n",
              "even the lines from a file or the nodes from another graph).\n",
              "\n",
              "&gt;&gt;&gt; G.add_nodes_from([2, 3])\n",
              "&gt;&gt;&gt; G.add_nodes_from(range(100, 110))\n",
              "&gt;&gt;&gt; H = nx.path_graph(10)\n",
              "&gt;&gt;&gt; G.add_nodes_from(H)\n",
              "\n",
              "In addition to strings and integers any hashable Python object\n",
              "(except None) can represent a node, e.g. a customized node object,\n",
              "or even another Graph.\n",
              "\n",
              "&gt;&gt;&gt; G.add_node(H)\n",
              "\n",
              "**Edges:**\n",
              "\n",
              "G can also be grown by adding edges.\n",
              "\n",
              "Add one edge,\n",
              "\n",
              "&gt;&gt;&gt; G.add_edge(1, 2)\n",
              "\n",
              "a list of edges,\n",
              "\n",
              "&gt;&gt;&gt; G.add_edges_from([(1, 2), (1, 3)])\n",
              "\n",
              "or a collection of edges,\n",
              "\n",
              "&gt;&gt;&gt; G.add_edges_from(H.edges)\n",
              "\n",
              "If some edges connect nodes not yet in the graph, the nodes\n",
              "are added automatically.  There are no errors when adding\n",
              "nodes or edges that already exist.\n",
              "\n",
              "**Attributes:**\n",
              "\n",
              "Each graph, node, and edge can hold key/value attribute pairs\n",
              "in an associated attribute dictionary (the keys must be hashable).\n",
              "By default these are empty, but can be added or changed using\n",
              "add_edge, add_node or direct manipulation of the attribute\n",
              "dictionaries named graph, node and edge respectively.\n",
              "\n",
              "&gt;&gt;&gt; G = nx.Graph(day=&quot;Friday&quot;)\n",
              "&gt;&gt;&gt; G.graph\n",
              "{&#x27;day&#x27;: &#x27;Friday&#x27;}\n",
              "\n",
              "Add node attributes using add_node(), add_nodes_from() or G.nodes\n",
              "\n",
              "&gt;&gt;&gt; G.add_node(1, time=&quot;5pm&quot;)\n",
              "&gt;&gt;&gt; G.add_nodes_from([3], time=&quot;2pm&quot;)\n",
              "&gt;&gt;&gt; G.nodes[1]\n",
              "{&#x27;time&#x27;: &#x27;5pm&#x27;}\n",
              "&gt;&gt;&gt; G.nodes[1][&quot;room&quot;] = 714  # node must exist already to use G.nodes\n",
              "&gt;&gt;&gt; del G.nodes[1][&quot;room&quot;]  # remove attribute\n",
              "&gt;&gt;&gt; list(G.nodes(data=True))\n",
              "[(1, {&#x27;time&#x27;: &#x27;5pm&#x27;}), (3, {&#x27;time&#x27;: &#x27;2pm&#x27;})]\n",
              "\n",
              "Add edge attributes using add_edge(), add_edges_from(), subscript\n",
              "notation, or G.edges.\n",
              "\n",
              "&gt;&gt;&gt; G.add_edge(1, 2, weight=4.7)\n",
              "&gt;&gt;&gt; G.add_edges_from([(3, 4), (4, 5)], color=&quot;red&quot;)\n",
              "&gt;&gt;&gt; G.add_edges_from([(1, 2, {&quot;color&quot;: &quot;blue&quot;}), (2, 3, {&quot;weight&quot;: 8})])\n",
              "&gt;&gt;&gt; G[1][2][&quot;weight&quot;] = 4.7\n",
              "&gt;&gt;&gt; G.edges[1, 2][&quot;weight&quot;] = 4\n",
              "\n",
              "Warning: we protect the graph data structure by making `G.edges` a\n",
              "read-only dict-like structure. However, you can assign to attributes\n",
              "in e.g. `G.edges[1, 2]`. Thus, use 2 sets of brackets to add/change\n",
              "data attributes: `G.edges[1, 2][&#x27;weight&#x27;] = 4`\n",
              "(For multigraphs: `MG.edges[u, v, key][name] = value`).\n",
              "\n",
              "**Shortcuts:**\n",
              "\n",
              "Many common graph features allow python syntax to speed reporting.\n",
              "\n",
              "&gt;&gt;&gt; 1 in G  # check if node in graph\n",
              "True\n",
              "&gt;&gt;&gt; [n for n in G if n &lt; 3]  # iterate through nodes\n",
              "[1, 2]\n",
              "&gt;&gt;&gt; len(G)  # number of nodes in graph\n",
              "5\n",
              "\n",
              "Often the best way to traverse all edges of a graph is via the neighbors.\n",
              "The neighbors are reported as an adjacency-dict `G.adj` or `G.adjacency()`\n",
              "\n",
              "&gt;&gt;&gt; for n, nbrsdict in G.adjacency():\n",
              "...     for nbr, eattr in nbrsdict.items():\n",
              "...         if &quot;weight&quot; in eattr:\n",
              "...             # Do something useful with the edges\n",
              "...             pass\n",
              "\n",
              "But the edges() method is often more convenient:\n",
              "\n",
              "&gt;&gt;&gt; for u, v, weight in G.edges.data(&quot;weight&quot;):\n",
              "...     if weight is not None:\n",
              "...         # Do something useful with the edges\n",
              "...         pass\n",
              "\n",
              "**Reporting:**\n",
              "\n",
              "Simple graph information is obtained using object-attributes and methods.\n",
              "Reporting typically provides views instead of containers to reduce memory\n",
              "usage. The views update as the graph is updated similarly to dict-views.\n",
              "The objects `nodes`, `edges` and `adj` provide access to data attributes\n",
              "via lookup (e.g. `nodes[n]`, `edges[u, v]`, `adj[u][v]`) and iteration\n",
              "(e.g. `nodes.items()`, `nodes.data(&#x27;color&#x27;)`,\n",
              "`nodes.data(&#x27;color&#x27;, default=&#x27;blue&#x27;)` and similarly for `edges`)\n",
              "Views exist for `nodes`, `edges`, `neighbors()`/`adj` and `degree`.\n",
              "\n",
              "For details on these and other miscellaneous methods, see below.\n",
              "\n",
              "**Subclasses (Advanced):**\n",
              "\n",
              "The Graph class uses a dict-of-dict-of-dict data structure.\n",
              "The outer dict (node_dict) holds adjacency information keyed by node.\n",
              "The next dict (adjlist_dict) represents the adjacency information and holds\n",
              "edge data keyed by neighbor.  The inner dict (edge_attr_dict) represents\n",
              "the edge data and holds edge attribute values keyed by attribute names.\n",
              "\n",
              "Each of these three dicts can be replaced in a subclass by a user defined\n",
              "dict-like object. In general, the dict-like features should be\n",
              "maintained but extra features can be added. To replace one of the\n",
              "dicts create a new graph class by changing the class(!) variable\n",
              "holding the factory for that dict-like structure.\n",
              "\n",
              "node_dict_factory : function, (default: dict)\n",
              "    Factory function to be used to create the dict containing node\n",
              "    attributes, keyed by node id.\n",
              "    It should require no arguments and return a dict-like object\n",
              "\n",
              "node_attr_dict_factory: function, (default: dict)\n",
              "    Factory function to be used to create the node attribute\n",
              "    dict which holds attribute values keyed by attribute name.\n",
              "    It should require no arguments and return a dict-like object\n",
              "\n",
              "adjlist_outer_dict_factory : function, (default: dict)\n",
              "    Factory function to be used to create the outer-most dict\n",
              "    in the data structure that holds adjacency info keyed by node.\n",
              "    It should require no arguments and return a dict-like object.\n",
              "\n",
              "adjlist_inner_dict_factory : function, (default: dict)\n",
              "    Factory function to be used to create the adjacency list\n",
              "    dict which holds edge data keyed by neighbor.\n",
              "    It should require no arguments and return a dict-like object\n",
              "\n",
              "edge_attr_dict_factory : function, (default: dict)\n",
              "    Factory function to be used to create the edge attribute\n",
              "    dict which holds attribute values keyed by attribute name.\n",
              "    It should require no arguments and return a dict-like object.\n",
              "\n",
              "graph_attr_dict_factory : function, (default: dict)\n",
              "    Factory function to be used to create the graph attribute\n",
              "    dict which holds attribute values keyed by attribute name.\n",
              "    It should require no arguments and return a dict-like object.\n",
              "\n",
              "Typically, if your extension doesn&#x27;t impact the data structure all\n",
              "methods will inherit without issue except: `to_directed/to_undirected`.\n",
              "By default these methods create a DiGraph/Graph class and you probably\n",
              "want them to create your extension of a DiGraph/Graph. To facilitate\n",
              "this we define two class variables that you can set in your subclass.\n",
              "\n",
              "to_directed_class : callable, (default: DiGraph or MultiDiGraph)\n",
              "    Class to create a new graph structure in the `to_directed` method.\n",
              "    If `None`, a NetworkX class (DiGraph or MultiDiGraph) is used.\n",
              "\n",
              "to_undirected_class : callable, (default: Graph or MultiGraph)\n",
              "    Class to create a new graph structure in the `to_undirected` method.\n",
              "    If `None`, a NetworkX class (Graph or MultiGraph) is used.\n",
              "\n",
              "**Subclassing Example**\n",
              "\n",
              "Create a low memory graph class that effectively disallows edge\n",
              "attributes by using a single attribute dict for all edges.\n",
              "This reduces the memory used, but you lose edge attributes.\n",
              "\n",
              "&gt;&gt;&gt; class ThinGraph(nx.Graph):\n",
              "...     all_edge_dict = {&quot;weight&quot;: 1}\n",
              "...\n",
              "...     def single_edge_dict(self):\n",
              "...         return self.all_edge_dict\n",
              "...\n",
              "...     edge_attr_dict_factory = single_edge_dict\n",
              "&gt;&gt;&gt; G = ThinGraph()\n",
              "&gt;&gt;&gt; G.add_edge(2, 1)\n",
              "&gt;&gt;&gt; G[2][1]\n",
              "{&#x27;weight&#x27;: 1}\n",
              "&gt;&gt;&gt; G.add_edge(2, 2)\n",
              "&gt;&gt;&gt; G[2][1] is G[2][2]\n",
              "True</pre>\n",
              "      <script>\n",
              "      if (google.colab.kernel.accessAllowed && google.colab.files && google.colab.files.view) {\n",
              "        for (const element of document.querySelectorAll('.filepath')) {\n",
              "          element.style.display = 'block'\n",
              "          element.onclick = (event) => {\n",
              "            event.preventDefault();\n",
              "            event.stopPropagation();\n",
              "            google.colab.files.view(element.textContent, 66);\n",
              "          };\n",
              "        }\n",
              "      }\n",
              "      for (const element of document.querySelectorAll('.function-repr-contents')) {\n",
              "        element.onclick = (event) => {\n",
              "          event.preventDefault();\n",
              "          event.stopPropagation();\n",
              "          element.classList.toggle('function-repr-contents-collapsed');\n",
              "        };\n",
              "      }\n",
              "      </script>\n",
              "      </div>"
            ]
          },
          "metadata": {},
          "execution_count": 2
        }
      ]
    },
    {
      "cell_type": "code",
      "metadata": {
        "id": "hDvf3nm-ors4",
        "colab": {
          "base_uri": "https://localhost:8080/",
          "height": 516
        },
        "outputId": "921bd851-7877-4992-f456-dad47279b8b6"
      },
      "source": [
        "# Visualize the graph\n",
        "nx.draw(G, with_labels = True)"
      ],
      "execution_count": 3,
      "outputs": [
        {
          "output_type": "display_data",
          "data": {
            "text/plain": [
              "<Figure size 640x480 with 1 Axes>"
            ],
            "image/png": "[encoded data removed]"
          },
          "metadata": {}
        }
      ]
    },
    {
      "cell_type": "markdown",
      "metadata": {
        "id": "FX25Y1CrYmgN"
      },
      "source": [
        "## Question 1: What is the average degree of the karate club network? (5 Points)"
      ]
    },
    {
      "cell_type": "code",
      "metadata": {
        "id": "AUhES1VYo3tB",
        "colab": {
          "base_uri": "https://localhost:8080/"
        },
        "outputId": "5bfd7794-b87c-47b5-9273-c3fbb799c15a"
      },
      "source": [
        "def average_degree(num_edges, num_nodes):\n",
        "  # TODO: Implement this function that takes number of edges\n",
        "  # and number of nodes, and returns the average node degree of\n",
        "  # the graph. Round the result to nearest integer (for example\n",
        "  # 3.3 will be rounded to 3 and 3.7 will be rounded to 4)\n",
        "\n",
        "\n",
        "\n",
        "  ############# Your code here ############\n",
        "  avg_degree = round(2 * num_edges / num_nodes)\n",
        "  #########################################\n",
        "\n",
        "  return avg_degree\n",
        "\n",
        "num_edges = G.number_of_edges()\n",
        "num_nodes = G.number_of_nodes()\n",
        "avg_degree = average_degree(num_edges, num_nodes)\n",
        "print(\"Average degree of karate club network is {}\".format(avg_degree))"
      ],
      "execution_count": 4,
      "outputs": [
        {
          "output_type": "stream",
          "name": "stdout",
          "text": [
            "Average degree of karate club network is 5\n"
          ]
        }
      ]
    },
    {
      "cell_type": "markdown",
      "metadata": {
        "id": "Fk02fD4vYmZI"
      },
      "source": [
        "## Question 2: What is the average clustering coefficient of the karate club network? (5 Points)"
      ]
    },
    {
      "cell_type": "code",
      "metadata": {
        "id": "k15XKEto1aYJ",
        "colab": {
          "base_uri": "https://localhost:8080/"
        },
        "outputId": "19f97047-108c-4878-d03c-971dede5c4d7"
      },
      "source": [
        "def average_clustering_coefficient(G):\n",
        "  # TODO: Implement this function that takes a nx.Graph\n",
        "  # and returns the average clustering coefficient. Round\n",
        "  # the result to 2 decimal places (for example 3.333 will\n",
        "  # be rounded to 3.33 and 3.7571 will be rounded to 3.76)\n",
        "\n",
        "\n",
        "\n",
        "\n",
        "  ############# Your code here ############\n",
        "  ## Note:\n",
        "  ## 1: Please use the appropriate NetworkX clustering function\n",
        "  avg_cluster_coef = round(nx.average_clustering(G), 2)\n",
        "  #########################################\n",
        "\n",
        "  return avg_cluster_coef\n",
        "\n",
        "avg_cluster_coef = average_clustering_coefficient(G)\n",
        "print(\"Average clustering coefficient of karate club network is {}\".format(avg_cluster_coef))"
      ],
      "execution_count": 5,
      "outputs": [
        {
          "output_type": "stream",
          "name": "stdout",
          "text": [
            "Average clustering coefficient of karate club network is 0.57\n"
          ]
        }
      ]
    },
    {
      "cell_type": "markdown",
      "metadata": {
        "id": "zghQ-AhXYmP4"
      },
      "source": [
        "## Question 3: What is the PageRank value for node 0 (node with id 0) after one PageRank iteration? (5 Points)\n",
        "\n",
        "Page Rank measures importance of nodes in a graph using the link structure of the web. A “vote” from an important page is worth more. Specifically, if  a page $i$ with importance $r_i$ has $d_i$ out-links, then each link gets $\\frac{r_i}{d_i}$ votes. Thus, the importance of a Page $j$, represented as $r_j$ is the sum of the votes on its in links.\n",
        "$$r_j = \\sum_{i \\rightarrow j} \\frac{r_i}{d_i}$$, where $d_i$ is the out degree of node $i$.\n",
        "\n",
        "The PageRank algorithm (used by Google) outputs a probability distribution which represent the likelihood of a random surfer clicking on links will arrive at any particular page. At each time step, the random surfer has two options\n",
        "- With prob. $\\beta$, follow a link at random\n",
        "- With prob. $1- \\beta$, jump to a random page\n",
        "\n",
        "Thus, the importance of a particular page is calculated with the following PageRank equation:\n",
        " $$r_j = \\sum_{i \\rightarrow j} \\beta \\frac{r_i}{d_i} + (1 - \\beta) \\frac{1}{N}$$\n",
        "\n",
        "Please complete the code block by implementing the above PageRank equation for node 0.\n",
        "\n",
        "Note - You can refer to more information from the slides here - http://snap.stanford.edu/class/cs224w-2020/slides/04-pagerank.pdf\n",
        "\n",
        "\n"
      ]
    },
    {
      "cell_type": "code",
      "metadata": {
        "id": "BOGdWjNc6O7x",
        "colab": {
          "base_uri": "https://localhost:8080/"
        },
        "outputId": "43aa8112-e0dd-4bb2-8a25-5db7c669f548"
      },
      "source": [
        "def one_iter_pagerank(G, beta, r0, node_id):\n",
        "  # TODO: Implement this function that takes a nx.Graph, beta, r0 and node id.\n",
        "  # The return value r1 is one interation PageRank value for the input node.\n",
        "  # Please round r1 to 2 decimal places.\n",
        "\n",
        "  r1 = 0\n",
        "\n",
        "  ############# Your code here ############\n",
        "  ## Note:\n",
        "  ## 1: You should not use nx.pagerank\n",
        "  N = G.number_of_nodes()\n",
        "  for node in G.neighbors(node_id):\n",
        "    r1 += beta * r0 / G.degree(node)\n",
        "  r1 += (1 - beta) / N\n",
        "  r1 = round(r1,2)\n",
        "  #########################################\n",
        "\n",
        "  return r1\n",
        "\n",
        "beta = 0.8\n",
        "r0 = 1 / G.number_of_nodes()\n",
        "node = 0\n",
        "r1 = one_iter_pagerank(G, beta, r0, node)\n",
        "print(\"The PageRank value for node 0 after one iteration is {}\".format(r1))"
      ],
      "execution_count": 6,
      "outputs": [
        {
          "output_type": "stream",
          "name": "stdout",
          "text": [
            "The PageRank value for node 0 after one iteration is 0.13\n"
          ]
        }
      ]
    },
    {
      "cell_type": "markdown",
      "metadata": {
        "id": "icTcOULeYmIu"
      },
      "source": [
        "## Question 4: What is the (raw) closeness centrality for the karate club network node 5? (5 Points)\n",
        "\n",
        "The equation for closeness centrality is $c(v) = \\frac{1}{\\sum_{u \\neq v}\\text{shortest path length between } u \\text{ and } v}$"
      ]
    },
    {
      "cell_type": "code",
      "metadata": {
        "id": "XbCsq_tl-3ok",
        "colab": {
          "base_uri": "https://localhost:8080/"
        },
        "outputId": "27e86779-58ef-4ce2-debb-fab0e7bbc8f6"
      },
      "source": [
        "def closeness_centrality(G, node=5):\n",
        "  # TODO: Implement the function that calculates closeness centrality\n",
        "  # for a node in karate club network. G is the input karate club\n",
        "  # network and node is the node id in the graph. Please round the\n",
        "  # closeness centrality result to 2 decimal places.\n",
        "\n",
        "\n",
        "  ############# Your code here ############\n",
        "\n",
        "  ## Note:\n",
        "  ## 1: You can use networkx closeness centrality function.\n",
        "  ## 2: Notice that networkx closeness centrality returns the normalized\n",
        "  ## closeness directly, which is different from the raw (unnormalized)\n",
        "  ## one that we learned in the lecture.\n",
        "  n = len(nx.node_connected_component(G, node)) # the number of nodes in the connected part of graph containing the node\n",
        "  closeness = nx.closeness_centrality(G)[node] / (n-1)\n",
        "  closeness = round(closeness, 2)\n",
        "  #########################################\n",
        "\n",
        "  return closeness\n",
        "\n",
        "node = 5\n",
        "closeness = closeness_centrality(G, node=node)\n",
        "print(\"The node 5 has closeness centrality {}\".format(closeness))"
      ],
      "execution_count": 7,
      "outputs": [
        {
          "output_type": "stream",
          "name": "stdout",
          "text": [
            "The node 5 has closeness centrality 0.01\n"
          ]
        }
      ]
    },
    {
      "cell_type": "markdown",
      "metadata": {
        "id": "-MxvowibYl4x"
      },
      "source": [
        "# 2 Graph to Tensor\n",
        "We will then work together to transform the graph $G$ into a PyTorch tensor, so that we can perform machine learning over the graph."
      ]
    },
    {
      "cell_type": "markdown",
      "metadata": {
        "id": "eDA8PosrA-9V"
      },
      "source": [
        "## Setup\n",
        "Check if PyTorch is properly installed"
      ]
    },
    {
      "cell_type": "code",
      "metadata": {
        "id": "ntuPVat_BAf1",
        "colab": {
          "base_uri": "https://localhost:8080/"
        },
        "outputId": "dd737cff-00ff-4581-db72-8bc18c08668b"
      },
      "source": [
        "import torch\n",
        "print(torch.__version__)"
      ],
      "execution_count": 8,
      "outputs": [
        {
          "output_type": "stream",
          "name": "stdout",
          "text": [
            "2.3.1+cu121\n"
          ]
        }
      ]
    },
    {
      "cell_type": "markdown",
      "metadata": {
        "id": "fko_2wSKYlun"
      },
      "source": [
        "## PyTorch tensor basics\n",
        "\n",
        "We can generate PyTorch tensor with all zeros, ones or random values."
      ]
    },
    {
      "cell_type": "code",
      "metadata": {
        "id": "W2ySw3m-A9qF",
        "colab": {
          "base_uri": "https://localhost:8080/"
        },
        "outputId": "72bdd4b4-b8f0-49cf-82ab-dbe5a1426e1a"
      },
      "source": [
        "# Generate 3 x 4 tensor with all ones\n",
        "ones = torch.ones(3, 4)\n",
        "print(ones)\n",
        "\n",
        "# Generate 3 x 4 tensor with all zeros\n",
        "zeros = torch.zeros(3, 4)\n",
        "print(zeros)\n",
        "\n",
        "# Generate 3 x 4 tensor with random values on the interval [0, 1)\n",
        "random_tensor = torch.rand(3, 4)\n",
        "print(random_tensor)\n",
        "\n",
        "# Get the shape of the tensor\n",
        "print(ones.shape)"
      ],
      "execution_count": 9,
      "outputs": [
        {
          "output_type": "stream",
          "name": "stdout",
          "text": [
            "tensor([[1., 1., 1., 1.],\n",
            "        [1., 1., 1., 1.],\n",
            "        [1., 1., 1., 1.]])\n",
            "tensor([[0., 0., 0., 0.],\n",
            "        [0., 0., 0., 0.],\n",
            "        [0., 0., 0., 0.]])\n",
            "tensor([[0.1303, 0.7709, 0.1418, 0.8360],\n",
            "        [0.0585, 0.8080, 0.2670, 0.6417],\n",
            "        [0.9874, 0.3407, 0.7735, 0.6397]])\n",
            "torch.Size([3, 4])\n"
          ]
        }
      ]
    },
    {
      "cell_type": "markdown",
      "metadata": {
        "id": "x8mp66eHBxWC"
      },
      "source": [
        "PyTorch tensor contains elements for a single data type, the `dtype`."
      ]
    },
    {
      "cell_type": "code",
      "metadata": {
        "id": "rQiOvKJJBwq4",
        "colab": {
          "base_uri": "https://localhost:8080/"
        },
        "outputId": "dc48706e-1072-4205-bd80-4e3276eb896e"
      },
      "source": [
        "# Create a 3 x 4 tensor with all 32-bit floating point zeros\n",
        "zeros = torch.zeros(3, 4, dtype=torch.float32)\n",
        "print(zeros.dtype)\n",
        "\n",
        "# Change the tensor dtype to 64-bit integer\n",
        "zeros = zeros.type(torch.long)\n",
        "print(zeros.dtype)"
      ],
      "execution_count": 10,
      "outputs": [
        {
          "output_type": "stream",
          "name": "stdout",
          "text": [
            "torch.float32\n",
            "torch.int64\n"
          ]
        }
      ]
    },
    {
      "cell_type": "markdown",
      "metadata": {
        "id": "I9EfegIRDkk2"
      },
      "source": [
        "## Question 5: Get the edge list of the karate club network and transform it into `torch.LongTensor`. What is the `torch.sum` value of `pos_edge_index` tensor? (10 Points)"
      ]
    },
    {
      "cell_type": "code",
      "metadata": {
        "id": "kEtVxMFID3ZT",
        "colab": {
          "base_uri": "https://localhost:8080/"
        },
        "outputId": "23ddacb2-583a-40d0-8af7-9a74fa8cd648"
      },
      "source": [
        "def graph_to_edge_list(G):\n",
        "  # TODO: Implement the function that returns the edge list of\n",
        "  # an nx.Graph. The returned edge_list should be a list of tuples\n",
        "  # where each tuple is a tuple representing an edge connected\n",
        "  # by two nodes.\n",
        "\n",
        "\n",
        "  ############# Your code here ############\n",
        "  edge_list = list(G.edges())\n",
        "  #########################################\n",
        "\n",
        "  return edge_list\n",
        "\n",
        "def edge_list_to_tensor(edge_list):\n",
        "  # TODO: Implement the function that transforms the edge_list to\n",
        "  # tensor. The input edge_list is a list of tuples and the resulting\n",
        "  # tensor should have the shape [2, len(edge_list)].\n",
        "\n",
        "\n",
        "  ############# Your code here ############\n",
        "  edge_index = torch.tensor(edge_list).T\n",
        "  #########################################\n",
        "\n",
        "  return edge_index\n",
        "\n",
        "pos_edge_list = graph_to_edge_list(G)\n",
        "pos_edge_index = edge_list_to_tensor(pos_edge_list)\n",
        "print(\"The pos_edge_index tensor has shape {}\".format(pos_edge_index.shape))\n",
        "print(\"The pos_edge_index tensor has sum value {}\".format(torch.sum(pos_edge_index)))"
      ],
      "execution_count": 11,
      "outputs": [
        {
          "output_type": "stream",
          "name": "stdout",
          "text": [
            "The pos_edge_index tensor has shape torch.Size([2, 78])\n",
            "The pos_edge_index tensor has sum value 2535\n"
          ]
        }
      ]
    },
    {
      "cell_type": "markdown",
      "metadata": {
        "id": "UBL-ZmdHWqIu"
      },
      "source": [
        "## Question 6: Please implement following function that samples negative edges. Then answer which edges (edge_1 to edge_5) are the negative edges in the karate club network? (10 Points)\n",
        "\n",
        "\"Negative\" edges refer to the edges/links that do not exist in the graph. The term \"negative\" is borrowed from \"negative sampling\" in link prediction. It has nothing to do with the edge weights.\n",
        "\n",
        "For example, given an edge (src, dst), you should check that neither (src, dst) nor (dst, src) are edges in the Graph. If these hold true, then it is a negative edge."
      ]
    },
    {
      "cell_type": "code",
      "metadata": {
        "id": "9N8VT1f8-IJ8",
        "colab": {
          "base_uri": "https://localhost:8080/"
        },
        "outputId": "6984bfab-9a27-47bd-fe3f-cb220767eae9"
      },
      "source": [
        "import random\n",
        "\n",
        "def sample_negative_edges(G, num_neg_samples):\n",
        "  # TODO: Implement the function that returns a list of negative edges.\n",
        "  # The number of sampled negative edges is num_neg_samples. You do not\n",
        "  # need to consider the corner case when the number of possible negative edges\n",
        "  # is less than num_neg_samples. It should be ok as long as your implementation\n",
        "  # works on the karate club network. In this implementation, self loops should\n",
        "  # not be considered as either a positive or negative edge. Also, notice that\n",
        "  # the karate club network is an undirected graph, if (0, 1) is a positive\n",
        "  # edge, do you think (1, 0) can be a negative one?\n",
        "\n",
        "  neg_edge_list = []\n",
        "  ############# Your code here ############\n",
        "  while len(neg_edge_list) < num_neg_samples:\n",
        "    src = random.randint(0, G.number_of_nodes() - 1)\n",
        "    dst = random.randint(0, G.number_of_nodes() - 1)\n",
        "    if src == dst:\n",
        "      continue\n",
        "    if G.has_edge(src, dst) or G.has_edge(dst, src):\n",
        "      continue\n",
        "    if (src, dst) in neg_edge_list or (dst, src) in neg_edge_list:\n",
        "      continue\n",
        "    neg_edge_list.append((src, dst))\n",
        "  #########################################\n",
        "  print(neg_edge_list)\n",
        "\n",
        "  return neg_edge_list\n",
        "\n",
        "# Sample 78 negative edges\n",
        "neg_edge_list = sample_negative_edges(G, len(pos_edge_list))\n",
        "\n",
        "# Transform the negative edge list to tensor\n",
        "neg_edge_index = edge_list_to_tensor(neg_edge_list)\n",
        "print(\"The neg_edge_index tensor has shape {}\".format(neg_edge_index.shape))\n",
        "\n",
        "# Which of following edges can be negative ones?\n",
        "edge_1 = (7, 1)\n",
        "edge_2 = (1, 33)\n",
        "edge_3 = (33, 22)\n",
        "edge_4 = (0, 4)\n",
        "edge_5 = (4, 2)\n",
        "\n",
        "############# Your code here ############\n",
        "## Note:\n",
        "## 1: For each of the 5 edges, print whether it can be negative edge\n",
        "\n",
        "print(edge_1 not in G.edges())\n",
        "print(edge_2 not in G.edges())\n",
        "print(edge_3 not in G.edges())\n",
        "print(edge_4 not in G.edges())\n",
        "print(edge_5 not in G.edges())\n",
        "#########################################"
      ],
      "execution_count": 46,
      "outputs": [
        {
          "output_type": "stream",
          "name": "stdout",
          "text": [
            "[(25, 13), (12, 32), (11, 19), (7, 16), (21, 26), (3, 21), (19, 25), (11, 2), (17, 30), (13, 30), (24, 6), (28, 3), (26, 22), (3, 33), (21, 9), (5, 11), (28, 29), (20, 31), (7, 27), (28, 26), (10, 21), (11, 13), (31, 19), (20, 24), (12, 1), (14, 2), (8, 5), (7, 24), (21, 16), (21, 27), (14, 27), (8, 12), (23, 30), (29, 14), (15, 3), (2, 23), (9, 16), (31, 27), (14, 1), (14, 31), (15, 28), (6, 10), (16, 28), (5, 26), (5, 4), (29, 4), (27, 15), (2, 24), (27, 28), (14, 17), (20, 28), (19, 7), (8, 10), (4, 23), (18, 23), (31, 18), (31, 26), (29, 18), (4, 18), (7, 17), (24, 23), (9, 25), (8, 27), (12, 19), (30, 22), (2, 20), (28, 14), (14, 12), (26, 18), (1, 11), (6, 12), (3, 26), (26, 23), (29, 20), (29, 9), (24, 18), (30, 26), (18, 22)]\n",
            "The neg_edge_index tensor has shape torch.Size([2, 78])\n",
            "False\n",
            "True\n",
            "False\n",
            "False\n",
            "True\n"
          ]
        }
      ]
    },
    {
      "cell_type": "markdown",
      "metadata": {
        "id": "Wk9Q-a-9qGsw"
      },
      "source": [
        "# 3 Node Emebedding Learning\n",
        "\n",
        "Finally, we will finish the first learning algorithm on graphs: a node embedding model.\n"
      ]
    },
    {
      "cell_type": "markdown",
      "metadata": {
        "id": "NDBxRQcZ_dUH"
      },
      "source": [
        "## Setup"
      ]
    },
    {
      "cell_type": "code",
      "metadata": {
        "id": "Lnqn9H6s_ehX",
        "colab": {
          "base_uri": "https://localhost:8080/"
        },
        "outputId": "3eaca9d4-04b6-4343-fd1e-341771df7f7c"
      },
      "source": [
        "import torch\n",
        "import torch.nn as nn\n",
        "import matplotlib.pyplot as plt\n",
        "from sklearn.decomposition import PCA\n",
        "\n",
        "print(torch.__version__)"
      ],
      "execution_count": 13,
      "outputs": [
        {
          "output_type": "stream",
          "name": "stdout",
          "text": [
            "2.3.1+cu121\n"
          ]
        }
      ]
    },
    {
      "cell_type": "markdown",
      "metadata": {
        "id": "6gomAf8vxq0R"
      },
      "source": [
        "To write our own node embedding learning methods, we'll heavily use the [`nn.Embedding`](https://pytorch.org/docs/stable/generated/torch.nn.Embedding.html) module in PyTorch. Let's see how to use `nn.Embedding`:"
      ]
    },
    {
      "cell_type": "code",
      "metadata": {
        "id": "aRiWGuLAx5yx",
        "colab": {
          "base_uri": "https://localhost:8080/"
        },
        "outputId": "9f5765c5-b598-4f4c-c57e-fc28dd32417d"
      },
      "source": [
        "# Initialize an embedding layer\n",
        "# Suppose we want to have embedding for 4 items (e.g., nodes)\n",
        "# Each item is represented with 8 dimensional vector\n",
        "\n",
        "emb_sample = nn.Embedding(num_embeddings=4, embedding_dim=8)\n",
        "print('Sample embedding layer: {}'.format(emb_sample))"
      ],
      "execution_count": 14,
      "outputs": [
        {
          "output_type": "stream",
          "name": "stdout",
          "text": [
            "Sample embedding layer: Embedding(4, 8)\n"
          ]
        }
      ]
    },
    {
      "cell_type": "markdown",
      "metadata": {
        "id": "bS9qQfeujEVh"
      },
      "source": [
        "We can select items from the embedding matrix, by using Tensor indices"
      ]
    },
    {
      "cell_type": "code",
      "metadata": {
        "id": "9AGIfP4QEDr8",
        "colab": {
          "base_uri": "https://localhost:8080/"
        },
        "outputId": "adbe05f1-4183-4669-8008-a63306801bbc"
      },
      "source": [
        "# Select an embedding in emb_sample\n",
        "id = torch.LongTensor([1])\n",
        "print(emb_sample(id))\n",
        "\n",
        "# Select multiple embeddings\n",
        "ids = torch.LongTensor([1, 3])\n",
        "print(emb_sample(ids))\n",
        "\n",
        "# Get the shape of the embedding weight matrix\n",
        "shape = emb_sample.weight.data.shape\n",
        "print(shape)\n",
        "\n",
        "# Overwrite the weight to tensor with all ones\n",
        "emb_sample.weight.data = torch.ones(shape)\n",
        "\n",
        "# Let's check if the emb is indeed initilized\n",
        "ids = torch.LongTensor([0, 3])\n",
        "print(emb_sample(ids))"
      ],
      "execution_count": 15,
      "outputs": [
        {
          "output_type": "stream",
          "name": "stdout",
          "text": [
            "tensor([[-0.5018,  0.4245,  1.1803,  0.7128, -1.1330, -0.6464, -0.3447,  1.3942]],\n",
            "       grad_fn=<EmbeddingBackward0>)\n",
            "tensor([[-0.5018,  0.4245,  1.1803,  0.7128, -1.1330, -0.6464, -0.3447,  1.3942],\n",
            "        [ 1.4601, -1.3239,  1.1774, -1.7128, -0.7557,  1.2678, -0.1340, -0.6452]],\n",
            "       grad_fn=<EmbeddingBackward0>)\n",
            "torch.Size([4, 8])\n",
            "tensor([[1., 1., 1., 1., 1., 1., 1., 1.],\n",
            "        [1., 1., 1., 1., 1., 1., 1., 1.]], grad_fn=<EmbeddingBackward0>)\n"
          ]
        }
      ]
    },
    {
      "cell_type": "markdown",
      "metadata": {
        "id": "8MjBuDKaKIsM"
      },
      "source": [
        "Now, it's your time to create node embedding matrix for the graph we have!\n",
        "- We want to have **16 dimensional** vector for each node in the karate club network.\n",
        "- We want to initalize the matrix under **uniform distribution**, in the range of $[0, 1)$. We suggest you using [`torch.rand`](https://pytorch.org/docs/stable/generated/torch.rand.html)."
      ]
    },
    {
      "cell_type": "code",
      "metadata": {
        "id": "hMszSwRPKGn1",
        "colab": {
          "base_uri": "https://localhost:8080/"
        },
        "outputId": "716ac998-0e47-484d-9b6d-a104cc38cbd4"
      },
      "source": [
        "# Please do not change / reset the random seed\n",
        "torch.manual_seed(1)\n",
        "\n",
        "def create_node_emb(num_node=34, embedding_dim=16):\n",
        "  # TODO: Implement this function that will create the node embedding matrix.\n",
        "  # A torch.nn.Embedding layer will be returned. You do not need to change\n",
        "  # the values of num_node and embedding_dim. The weight matrix of returned\n",
        "  # layer should be initialized under uniform distribution.\n",
        "\n",
        "  ############# Your code here ############\n",
        "  emb = nn.Embedding(num_node, embedding_dim, _weight=torch.rand(num_node, embedding_dim))\n",
        "  #########################################\n",
        "\n",
        "  return emb\n",
        "\n",
        "emb = create_node_emb()\n",
        "ids = torch.LongTensor([0, 3])\n",
        "\n",
        "# Print the embedding layer\n",
        "print(\"Embedding: {}\".format(emb))\n",
        "\n",
        "# An example that gets the embeddings for node 0 and 3\n",
        "print(emb(ids))"
      ],
      "execution_count": 32,
      "outputs": [
        {
          "output_type": "stream",
          "name": "stdout",
          "text": [
            "Embedding: Embedding(34, 16)\n",
            "tensor([[0.7576, 0.2793, 0.4031, 0.7347, 0.0293, 0.7999, 0.3971, 0.7544, 0.5695,\n",
            "         0.4388, 0.6387, 0.5247, 0.6826, 0.3051, 0.4635, 0.4550],\n",
            "        [0.3556, 0.4452, 0.0193, 0.2616, 0.7713, 0.3785, 0.9980, 0.9008, 0.4766,\n",
            "         0.1663, 0.8045, 0.6552, 0.1768, 0.8248, 0.8036, 0.9434]],\n",
            "       grad_fn=<EmbeddingBackward0>)\n"
          ]
        }
      ]
    },
    {
      "cell_type": "markdown",
      "metadata": {
        "id": "4QfoANibTzyh"
      },
      "source": [
        "## Visualize the initial node embeddings\n",
        "One good way to understand an embedding matrix, is to visualize it in a 2D space.\n",
        "Here, we have implemented an embedding visualization function for you.\n",
        "We first do PCA to reduce the dimensionality of embeddings to a 2D space.\n",
        "Then we visualize each point, colored by the community it belongs to."
      ]
    },
    {
      "cell_type": "code",
      "metadata": {
        "id": "_LCoIkarhfYD",
        "colab": {
          "base_uri": "https://localhost:8080/",
          "height": 522
        },
        "outputId": "246cbe53-9386-4a1d-9e91-ce899b4fb0eb"
      },
      "source": [
        "def visualize_emb(emb):\n",
        "  X = emb.weight.data.numpy()\n",
        "  pca = PCA(n_components=2)\n",
        "  components = pca.fit_transform(X)\n",
        "  plt.figure(figsize=(6, 6))\n",
        "  club1_x = []\n",
        "  club1_y = []\n",
        "  club2_x = []\n",
        "  club2_y = []\n",
        "  for node in G.nodes(data=True):\n",
        "    if node[1]['club'] == 'Mr. Hi':\n",
        "      club1_x.append(components[node[0]][0])\n",
        "      club1_y.append(components[node[0]][1])\n",
        "    else:\n",
        "      club2_x.append(components[node[0]][0])\n",
        "      club2_y.append(components[node[0]][1])\n",
        "  plt.scatter(club1_x, club1_y, color=\"red\", label=\"Mr. Hi\")\n",
        "  plt.scatter(club2_x, club2_y, color=\"blue\", label=\"Officer\")\n",
        "  plt.legend()\n",
        "  plt.show()\n",
        "\n",
        "# Visualize the initial random embeddding\n",
        "visualize_emb(emb)"
      ],
      "execution_count": 17,
      "outputs": [
        {
          "output_type": "display_data",
          "data": {
            "text/plain": [
              "<Figure size 600x600 with 1 Axes>"
            ],
            "image/png": "[encoded data removed]"
          },
          "metadata": {}
        }
      ]
    },
    {
      "cell_type": "markdown",
      "metadata": {
        "id": "bQIyuEz9ANb2"
      },
      "source": [
        "## Question 7: Training the embedding! What is the best performance you can get? Please report both the best loss and accuracy on Gradescope. (20 Points)\n",
        "\n",
        "We want to optimize our embeddings for the task of classifying edges as positive or negative. Given an edge and the embeddings for each node, the dot product of the embeddings, followed by a sigmoid, should give us the likelihood of that edge being either positive (output of sigmoid > 0.5) or negative (output of sigmoid < 0.5).\n",
        "\n",
        "Note that we're using the functions you wrote in the previous questions, _as well as the variables initialized in previous cells_. If you're running into issues, make sure your answers to questions 1-6 are correct."
      ]
    },
    {
      "cell_type": "code",
      "metadata": {
        "id": "RDeQTNNxqH0j",
        "colab": {
          "base_uri": "https://localhost:8080/"
        },
        "outputId": "54d9cbee-9572-4c4d-deda-6696c85b163e"
      },
      "source": [
        "from torch.optim import SGD\n",
        "import torch.nn as nn\n",
        "\n",
        "def accuracy(pred, label):\n",
        "  # TODO: Implement the accuracy function. This function takes the\n",
        "  # pred tensor (the resulting tensor after sigmoid) and the label\n",
        "  # tensor (torch.LongTensor). Predicted value greater than 0.5 will\n",
        "  # be classified as label 1. Else it will be classified as label 0.\n",
        "  # The returned accuracy should be rounded to 4 decimal places.\n",
        "  # For example, accuracy 0.82956 will be rounded to 0.8296.\n",
        "  accu = 0\n",
        "  ############# Your code here ###########\n",
        "  accu=round(((pred>0.5)==label).sum().item()/(len(pred)),4)\n",
        "  #########################################\n",
        "\n",
        "  return accu\n",
        "\n",
        "def train(emb, loss_fn, sigmoid, train_label, train_edge):\n",
        "  # TODO: Train the embedding layer here. You can also change epochs and\n",
        "  # learning rate. In general, you need to implement:\n",
        "  # (1) Get the embeddings of the nodes in train_edge\n",
        "  # (2) Dot product the embeddings between each node pair\n",
        "  # (3) Feed the dot product result into sigmoid\n",
        "  # (4) Feed the sigmoid output into the loss_fn\n",
        "  # (5) Print both loss and accuracy of each epoch\n",
        "  # (6) Update the embeddings using the loss and optimizer\n",
        "  # (as a sanity check, the loss should decrease during training)\n",
        "\n",
        "  epochs = 500\n",
        "  learning_rate = 0.1\n",
        "\n",
        "  optimizer = SGD(emb.parameters(), lr=learning_rate, momentum=0.9)\n",
        "\n",
        "  for i in range(epochs):\n",
        "\n",
        "    ############# Your code here ############\n",
        "    optimizer.zero_grad()\n",
        "    embedding = emb(train_edge)\n",
        "    # print(embedding.shape)\n",
        "    dot_product = torch.sum(embedding[0] * embedding[1], dim=1)\n",
        "    pred = sigmoid(dot_product)\n",
        "    loss = loss_fn(pred, train_label)\n",
        "    print(\"Epoch: {}, Loss: {}, Accuracy: {}\".format(i, loss, accuracy(pred, train_label)))\n",
        "    loss.backward()\n",
        "    optimizer.step()\n",
        "    #########################################\n",
        "\n",
        "loss_fn = nn.BCELoss()\n",
        "sigmoid = nn.Sigmoid()\n",
        "\n",
        "print(pos_edge_index.shape)\n",
        "\n",
        "# Generate the positive and negative labels\n",
        "pos_label = torch.ones(pos_edge_index.shape[1], )\n",
        "neg_label = torch.zeros(neg_edge_index.shape[1], )\n",
        "\n",
        "# Concat positive and negative labels into one tensor\n",
        "train_label = torch.cat([pos_label, neg_label], dim=0)\n",
        "# Concat positive and negative edges into one tensor\n",
        "# Since the network is very small, we do not split the edges into val/test sets\n",
        "train_edge = torch.cat([pos_edge_index, neg_edge_index], dim=1)\n",
        "print(train_edge.shape)\n",
        "\n",
        "train(emb, loss_fn, sigmoid, train_label, train_edge)"
      ],
      "execution_count": 47,
      "outputs": [
        {
          "output_type": "stream",
          "name": "stdout",
          "text": [
            "torch.Size([2, 78])\n",
            "torch.Size([2, 156])\n",
            "Epoch: 0, Loss: 0.7137700319290161, Accuracy: 0.8141\n",
            "Epoch: 1, Loss: 0.7105191349983215, Accuracy: 0.8141\n",
            "Epoch: 2, Loss: 0.7044197916984558, Accuracy: 0.8141\n",
            "Epoch: 3, Loss: 0.6956914067268372, Accuracy: 0.8269\n",
            "Epoch: 4, Loss: 0.6849341988563538, Accuracy: 0.8333\n",
            "Epoch: 5, Loss: 0.6722007393836975, Accuracy: 0.8333\n",
            "Epoch: 6, Loss: 0.6579786539077759, Accuracy: 0.8397\n",
            "Epoch: 7, Loss: 0.6424992084503174, Accuracy: 0.8397\n",
            "Epoch: 8, Loss: 0.626008927822113, Accuracy: 0.8462\n",
            "Epoch: 9, Loss: 0.6088132262229919, Accuracy: 0.8462\n",
            "Epoch: 10, Loss: 0.5910055637359619, Accuracy: 0.8462\n",
            "Epoch: 11, Loss: 0.5729033350944519, Accuracy: 0.8462\n",
            "Epoch: 12, Loss: 0.5545598268508911, Accuracy: 0.8462\n",
            "Epoch: 13, Loss: 0.5362513661384583, Accuracy: 0.8526\n",
            "Epoch: 14, Loss: 0.5180097818374634, Accuracy: 0.8718\n",
            "Epoch: 15, Loss: 0.49996864795684814, Accuracy: 0.8718\n",
            "Epoch: 16, Loss: 0.4822130501270294, Accuracy: 0.8846\n",
            "Epoch: 17, Loss: 0.4648173451423645, Accuracy: 0.8846\n",
            "Epoch: 18, Loss: 0.4478291869163513, Accuracy: 0.891\n",
            "Epoch: 19, Loss: 0.43128418922424316, Accuracy: 0.8974\n",
            "Epoch: 20, Loss: 0.41522353887557983, Accuracy: 0.8974\n",
            "Epoch: 21, Loss: 0.39965981245040894, Accuracy: 0.9038\n",
            "Epoch: 22, Loss: 0.3846123218536377, Accuracy: 0.9103\n",
            "Epoch: 23, Loss: 0.3700794279575348, Accuracy: 0.9167\n",
            "Epoch: 24, Loss: 0.35606321692466736, Accuracy: 0.9231\n",
            "Epoch: 25, Loss: 0.3425481915473938, Accuracy: 0.9295\n",
            "Epoch: 26, Loss: 0.3295348286628723, Accuracy: 0.9295\n",
            "Epoch: 27, Loss: 0.31700804829597473, Accuracy: 0.9295\n",
            "Epoch: 28, Loss: 0.3049546778202057, Accuracy: 0.9423\n",
            "Epoch: 29, Loss: 0.29335424304008484, Accuracy: 0.9423\n",
            "Epoch: 30, Loss: 0.2821965217590332, Accuracy: 0.9423\n",
            "Epoch: 31, Loss: 0.27145951986312866, Accuracy: 0.9423\n",
            "Epoch: 32, Loss: 0.2611347734928131, Accuracy: 0.9423\n",
            "Epoch: 33, Loss: 0.2512076795101166, Accuracy: 0.9487\n",
            "Epoch: 34, Loss: 0.24166567623615265, Accuracy: 0.9487\n",
            "Epoch: 35, Loss: 0.23249897360801697, Accuracy: 0.9487\n",
            "Epoch: 36, Loss: 0.2236981987953186, Accuracy: 0.9487\n",
            "Epoch: 37, Loss: 0.21525344252586365, Accuracy: 0.9487\n",
            "Epoch: 38, Loss: 0.20715537667274475, Accuracy: 0.9615\n",
            "Epoch: 39, Loss: 0.19939671456813812, Accuracy: 0.9615\n",
            "Epoch: 40, Loss: 0.19196712970733643, Accuracy: 0.9615\n",
            "Epoch: 41, Loss: 0.18485765159130096, Accuracy: 0.9615\n",
            "Epoch: 42, Loss: 0.17805889248847961, Accuracy: 0.9615\n",
            "Epoch: 43, Loss: 0.17156052589416504, Accuracy: 0.9615\n",
            "Epoch: 44, Loss: 0.1653517186641693, Accuracy: 0.9615\n",
            "Epoch: 45, Loss: 0.15942160785198212, Accuracy: 0.9679\n",
            "Epoch: 46, Loss: 0.15375863015651703, Accuracy: 0.9679\n",
            "Epoch: 47, Loss: 0.1483512818813324, Accuracy: 0.9679\n",
            "Epoch: 48, Loss: 0.14318743348121643, Accuracy: 0.9679\n",
            "Epoch: 49, Loss: 0.13825494050979614, Accuracy: 0.9679\n",
            "Epoch: 50, Loss: 0.13354142010211945, Accuracy: 0.9744\n",
            "Epoch: 51, Loss: 0.12903431057929993, Accuracy: 0.9744\n",
            "Epoch: 52, Loss: 0.12472128123044968, Accuracy: 0.9744\n",
            "Epoch: 53, Loss: 0.12059011310338974, Accuracy: 0.9744\n",
            "Epoch: 54, Loss: 0.1166289746761322, Accuracy: 0.9808\n",
            "Epoch: 55, Loss: 0.11282676458358765, Accuracy: 0.9808\n",
            "Epoch: 56, Loss: 0.10917320102453232, Accuracy: 0.9808\n",
            "Epoch: 57, Loss: 0.10565906763076782, Accuracy: 0.9808\n",
            "Epoch: 58, Loss: 0.10227625072002411, Accuracy: 0.9808\n",
            "Epoch: 59, Loss: 0.09901785105466843, Accuracy: 0.9808\n",
            "Epoch: 60, Loss: 0.09587817639112473, Accuracy: 0.9808\n",
            "Epoch: 61, Loss: 0.09285257756710052, Accuracy: 0.9808\n",
            "Epoch: 62, Loss: 0.08993744105100632, Accuracy: 0.9808\n",
            "Epoch: 63, Loss: 0.08712998032569885, Accuracy: 0.9808\n",
            "Epoch: 64, Loss: 0.0844280794262886, Accuracy: 0.9808\n",
            "Epoch: 65, Loss: 0.08183010667562485, Accuracy: 0.9808\n",
            "Epoch: 66, Loss: 0.07933472841978073, Accuracy: 0.9808\n",
            "Epoch: 67, Loss: 0.07694078236818314, Accuracy: 0.9808\n",
            "Epoch: 68, Loss: 0.07464709877967834, Accuracy: 0.9808\n",
            "Epoch: 69, Loss: 0.0724523589015007, Accuracy: 0.9808\n",
            "Epoch: 70, Loss: 0.070355124771595, Accuracy: 0.9808\n",
            "Epoch: 71, Loss: 0.06835361570119858, Accuracy: 0.9808\n",
            "Epoch: 72, Loss: 0.06644581258296967, Accuracy: 0.9808\n",
            "Epoch: 73, Loss: 0.06462936848402023, Accuracy: 0.9808\n",
            "Epoch: 74, Loss: 0.06290168315172195, Accuracy: 0.9872\n",
            "Epoch: 75, Loss: 0.061259880661964417, Accuracy: 0.9872\n",
            "Epoch: 76, Loss: 0.05970083922147751, Accuracy: 0.9872\n",
            "Epoch: 77, Loss: 0.05822126194834709, Accuracy: 0.9872\n",
            "Epoch: 78, Loss: 0.05681772902607918, Accuracy: 0.9872\n",
            "Epoch: 79, Loss: 0.05548670515418053, Accuracy: 0.9872\n",
            "Epoch: 80, Loss: 0.05422456935048103, Accuracy: 0.9872\n",
            "Epoch: 81, Loss: 0.05302772298455238, Accuracy: 0.9872\n",
            "Epoch: 82, Loss: 0.05189254507422447, Accuracy: 0.9872\n",
            "Epoch: 83, Loss: 0.050815463066101074, Accuracy: 0.9936\n",
            "Epoch: 84, Loss: 0.04979300498962402, Accuracy: 0.9936\n",
            "Epoch: 85, Loss: 0.04882179945707321, Accuracy: 0.9936\n",
            "Epoch: 86, Loss: 0.047898586839437485, Accuracy: 0.9936\n",
            "Epoch: 87, Loss: 0.04702022671699524, Accuracy: 0.9936\n",
            "Epoch: 88, Loss: 0.046183813363313675, Accuracy: 0.9936\n",
            "Epoch: 89, Loss: 0.04538651183247566, Accuracy: 0.9936\n",
            "Epoch: 90, Loss: 0.04462570697069168, Accuracy: 1.0\n",
            "Epoch: 91, Loss: 0.043898917734622955, Accuracy: 1.0\n",
            "Epoch: 92, Loss: 0.043203867971897125, Accuracy: 1.0\n",
            "Epoch: 93, Loss: 0.04253840446472168, Accuracy: 1.0\n",
            "Epoch: 94, Loss: 0.04190053418278694, Accuracy: 1.0\n",
            "Epoch: 95, Loss: 0.04128843545913696, Accuracy: 1.0\n",
            "Epoch: 96, Loss: 0.04070040211081505, Accuracy: 1.0\n",
            "Epoch: 97, Loss: 0.040134865790605545, Accuracy: 1.0\n",
            "Epoch: 98, Loss: 0.03959037363529205, Accuracy: 1.0\n",
            "Epoch: 99, Loss: 0.03906560689210892, Accuracy: 1.0\n",
            "Epoch: 100, Loss: 0.03855932503938675, Accuracy: 1.0\n",
            "Epoch: 101, Loss: 0.03807039558887482, Accuracy: 1.0\n",
            "Epoch: 102, Loss: 0.03759777545928955, Accuracy: 1.0\n",
            "Epoch: 103, Loss: 0.03714051470160484, Accuracy: 1.0\n",
            "Epoch: 104, Loss: 0.036697711795568466, Accuracy: 1.0\n",
            "Epoch: 105, Loss: 0.036268558353185654, Accuracy: 1.0\n",
            "Epoch: 106, Loss: 0.03585229068994522, Accuracy: 1.0\n",
            "Epoch: 107, Loss: 0.035448212176561356, Accuracy: 1.0\n",
            "Epoch: 108, Loss: 0.03505569323897362, Accuracy: 1.0\n",
            "Epoch: 109, Loss: 0.034674108028411865, Accuracy: 1.0\n",
            "Epoch: 110, Loss: 0.034302908927202225, Accuracy: 1.0\n",
            "Epoch: 111, Loss: 0.03394158557057381, Accuracy: 1.0\n",
            "Epoch: 112, Loss: 0.033589668571949005, Accuracy: 1.0\n",
            "Epoch: 113, Loss: 0.03324669972062111, Accuracy: 1.0\n",
            "Epoch: 114, Loss: 0.03291225805878639, Accuracy: 1.0\n",
            "Epoch: 115, Loss: 0.032585978507995605, Accuracy: 1.0\n",
            "Epoch: 116, Loss: 0.032267484813928604, Accuracy: 1.0\n",
            "Epoch: 117, Loss: 0.03195643052458763, Accuracy: 1.0\n",
            "Epoch: 118, Loss: 0.03165252134203911, Accuracy: 1.0\n",
            "Epoch: 119, Loss: 0.03135545179247856, Accuracy: 1.0\n",
            "Epoch: 120, Loss: 0.031064938753843307, Accuracy: 1.0\n",
            "Epoch: 121, Loss: 0.030780725181102753, Accuracy: 1.0\n",
            "Epoch: 122, Loss: 0.030502570793032646, Accuracy: 1.0\n",
            "Epoch: 123, Loss: 0.030230235308408737, Accuracy: 1.0\n",
            "Epoch: 124, Loss: 0.029963506385684013, Accuracy: 1.0\n",
            "Epoch: 125, Loss: 0.029702186584472656, Accuracy: 1.0\n",
            "Epoch: 126, Loss: 0.029446063563227654, Accuracy: 1.0\n",
            "Epoch: 127, Loss: 0.029194969683885574, Accuracy: 1.0\n",
            "Epoch: 128, Loss: 0.028948720544576645, Accuracy: 1.0\n",
            "Epoch: 129, Loss: 0.02870716154575348, Accuracy: 1.0\n",
            "Epoch: 130, Loss: 0.028470128774642944, Accuracy: 1.0\n",
            "Epoch: 131, Loss: 0.02823747508227825, Accuracy: 1.0\n",
            "Epoch: 132, Loss: 0.02800906077027321, Accuracy: 1.0\n",
            "Epoch: 133, Loss: 0.02778475359082222, Accuracy: 1.0\n",
            "Epoch: 134, Loss: 0.027564434334635735, Accuracy: 1.0\n",
            "Epoch: 135, Loss: 0.02734796144068241, Accuracy: 1.0\n",
            "Epoch: 136, Loss: 0.02713523432612419, Accuracy: 1.0\n",
            "Epoch: 137, Loss: 0.02692614123225212, Accuracy: 1.0\n",
            "Epoch: 138, Loss: 0.026720566675066948, Accuracy: 1.0\n",
            "Epoch: 139, Loss: 0.02651842124760151, Accuracy: 1.0\n",
            "Epoch: 140, Loss: 0.026319604367017746, Accuracy: 1.0\n",
            "Epoch: 141, Loss: 0.0261240191757679, Accuracy: 1.0\n",
            "Epoch: 142, Loss: 0.0259315837174654, Accuracy: 1.0\n",
            "Epoch: 143, Loss: 0.02574220672249794, Accuracy: 1.0\n",
            "Epoch: 144, Loss: 0.02555580995976925, Accuracy: 1.0\n",
            "Epoch: 145, Loss: 0.025372320786118507, Accuracy: 1.0\n",
            "Epoch: 146, Loss: 0.0251916516572237, Accuracy: 1.0\n",
            "Epoch: 147, Loss: 0.025013742968440056, Accuracy: 1.0\n",
            "Epoch: 148, Loss: 0.024838516488671303, Accuracy: 1.0\n",
            "Epoch: 149, Loss: 0.02466590516269207, Accuracy: 1.0\n",
            "Epoch: 150, Loss: 0.02449585311114788, Accuracy: 1.0\n",
            "Epoch: 151, Loss: 0.024328293278813362, Accuracy: 1.0\n",
            "Epoch: 152, Loss: 0.02416316606104374, Accuracy: 1.0\n",
            "Epoch: 153, Loss: 0.02400040626525879, Accuracy: 1.0\n",
            "Epoch: 154, Loss: 0.023839961737394333, Accuracy: 1.0\n",
            "Epoch: 155, Loss: 0.023681798949837685, Accuracy: 1.0\n",
            "Epoch: 156, Loss: 0.02352583408355713, Accuracy: 1.0\n",
            "Epoch: 157, Loss: 0.02337203547358513, Accuracy: 1.0\n",
            "Epoch: 158, Loss: 0.023220356553792953, Accuracy: 1.0\n",
            "Epoch: 159, Loss: 0.023070741444826126, Accuracy: 1.0\n",
            "Epoch: 160, Loss: 0.022923145443201065, Accuracy: 1.0\n",
            "Epoch: 161, Loss: 0.022777525708079338, Accuracy: 1.0\n",
            "Epoch: 162, Loss: 0.02263384312391281, Accuracy: 1.0\n",
            "Epoch: 163, Loss: 0.0224920604377985, Accuracy: 1.0\n",
            "Epoch: 164, Loss: 0.022352119907736778, Accuracy: 1.0\n",
            "Epoch: 165, Loss: 0.022214002907276154, Accuracy: 1.0\n",
            "Epoch: 166, Loss: 0.022077664732933044, Accuracy: 1.0\n",
            "Epoch: 167, Loss: 0.02194306254386902, Accuracy: 1.0\n",
            "Epoch: 168, Loss: 0.021810170263051987, Accuracy: 1.0\n",
            "Epoch: 169, Loss: 0.021678945049643517, Accuracy: 1.0\n",
            "Epoch: 170, Loss: 0.02154936082661152, Accuracy: 1.0\n",
            "Epoch: 171, Loss: 0.02142138034105301, Accuracy: 1.0\n",
            "Epoch: 172, Loss: 0.021294977515935898, Accuracy: 1.0\n",
            "Epoch: 173, Loss: 0.0211701150983572, Accuracy: 1.0\n",
            "Epoch: 174, Loss: 0.02104676514863968, Accuracy: 1.0\n",
            "Epoch: 175, Loss: 0.020924903452396393, Accuracy: 1.0\n",
            "Epoch: 176, Loss: 0.020804494619369507, Accuracy: 1.0\n",
            "Epoch: 177, Loss: 0.020685510709881783, Accuracy: 1.0\n",
            "Epoch: 178, Loss: 0.020567933097481728, Accuracy: 1.0\n",
            "Epoch: 179, Loss: 0.020451737567782402, Accuracy: 1.0\n",
            "Epoch: 180, Loss: 0.02033688873052597, Accuracy: 1.0\n",
            "Epoch: 181, Loss: 0.02022336609661579, Accuracy: 1.0\n",
            "Epoch: 182, Loss: 0.020111139863729477, Accuracy: 1.0\n",
            "Epoch: 183, Loss: 0.02000020071864128, Accuracy: 1.0\n",
            "Epoch: 184, Loss: 0.019890516996383667, Accuracy: 1.0\n",
            "Epoch: 185, Loss: 0.019782068207859993, Accuracy: 1.0\n",
            "Epoch: 186, Loss: 0.01967482455074787, Accuracy: 1.0\n",
            "Epoch: 187, Loss: 0.019568776711821556, Accuracy: 1.0\n",
            "Epoch: 188, Loss: 0.019463900476694107, Accuracy: 1.0\n",
            "Epoch: 189, Loss: 0.019360169768333435, Accuracy: 1.0\n",
            "Epoch: 190, Loss: 0.019257575273513794, Accuracy: 1.0\n",
            "Epoch: 191, Loss: 0.019156090915203094, Accuracy: 1.0\n",
            "Epoch: 192, Loss: 0.019055694341659546, Accuracy: 1.0\n",
            "Epoch: 193, Loss: 0.018956374377012253, Accuracy: 1.0\n",
            "Epoch: 194, Loss: 0.018858110532164574, Accuracy: 1.0\n",
            "Epoch: 195, Loss: 0.018760886043310165, Accuracy: 1.0\n",
            "Epoch: 196, Loss: 0.018664686009287834, Accuracy: 1.0\n",
            "Epoch: 197, Loss: 0.01856948621571064, Accuracy: 1.0\n",
            "Epoch: 198, Loss: 0.018475281074643135, Accuracy: 1.0\n",
            "Epoch: 199, Loss: 0.01838204450905323, Accuracy: 1.0\n",
            "Epoch: 200, Loss: 0.018289761617779732, Accuracy: 1.0\n",
            "Epoch: 201, Loss: 0.01819842867553234, Accuracy: 1.0\n",
            "Epoch: 202, Loss: 0.01810801587998867, Accuracy: 1.0\n",
            "Epoch: 203, Loss: 0.01801852509379387, Accuracy: 1.0\n",
            "Epoch: 204, Loss: 0.01792992651462555, Accuracy: 1.0\n",
            "Epoch: 205, Loss: 0.017842210829257965, Accuracy: 1.0\n",
            "Epoch: 206, Loss: 0.01775536686182022, Accuracy: 1.0\n",
            "Epoch: 207, Loss: 0.01766938343644142, Accuracy: 1.0\n",
            "Epoch: 208, Loss: 0.017584240064024925, Accuracy: 1.0\n",
            "Epoch: 209, Loss: 0.017499927431344986, Accuracy: 1.0\n",
            "Epoch: 210, Loss: 0.017416438087821007, Accuracy: 1.0\n",
            "Epoch: 211, Loss: 0.017333753407001495, Accuracy: 1.0\n",
            "Epoch: 212, Loss: 0.017251864075660706, Accuracy: 1.0\n",
            "Epoch: 213, Loss: 0.017170751467347145, Accuracy: 1.0\n",
            "Epoch: 214, Loss: 0.017090417444705963, Accuracy: 1.0\n",
            "Epoch: 215, Loss: 0.017010841518640518, Accuracy: 1.0\n",
            "Epoch: 216, Loss: 0.016932014375925064, Accuracy: 1.0\n",
            "Epoch: 217, Loss: 0.016853928565979004, Accuracy: 1.0\n",
            "Epoch: 218, Loss: 0.016776565462350845, Accuracy: 1.0\n",
            "Epoch: 219, Loss: 0.01669992133975029, Accuracy: 1.0\n",
            "Epoch: 220, Loss: 0.016623979434370995, Accuracy: 1.0\n",
            "Epoch: 221, Loss: 0.01654873415827751, Accuracy: 1.0\n",
            "Epoch: 222, Loss: 0.016474183648824692, Accuracy: 1.0\n",
            "Epoch: 223, Loss: 0.016400309279561043, Accuracy: 1.0\n",
            "Epoch: 224, Loss: 0.01632709614932537, Accuracy: 1.0\n",
            "Epoch: 225, Loss: 0.016254540532827377, Accuracy: 1.0\n",
            "Epoch: 226, Loss: 0.016182642430067062, Accuracy: 1.0\n",
            "Epoch: 227, Loss: 0.016111377626657486, Accuracy: 1.0\n",
            "Epoch: 228, Loss: 0.0160407442599535, Accuracy: 1.0\n",
            "Epoch: 229, Loss: 0.015970738604664803, Accuracy: 1.0\n",
            "Epoch: 230, Loss: 0.015901345759630203, Accuracy: 1.0\n",
            "Epoch: 231, Loss: 0.015832560136914253, Accuracy: 1.0\n",
            "Epoch: 232, Loss: 0.015764368698000908, Accuracy: 1.0\n",
            "Epoch: 233, Loss: 0.015696773305535316, Accuracy: 1.0\n",
            "Epoch: 234, Loss: 0.015629755333065987, Accuracy: 1.0\n",
            "Epoch: 235, Loss: 0.015563311986625195, Accuracy: 1.0\n",
            "Epoch: 236, Loss: 0.015497433952987194, Accuracy: 1.0\n",
            "Epoch: 237, Loss: 0.01543212216347456, Accuracy: 1.0\n",
            "Epoch: 238, Loss: 0.0153673579916358, Accuracy: 1.0\n",
            "Epoch: 239, Loss: 0.01530313678085804, Accuracy: 1.0\n",
            "Epoch: 240, Loss: 0.015239457599818707, Accuracy: 1.0\n",
            "Epoch: 241, Loss: 0.015176312997937202, Accuracy: 1.0\n",
            "Epoch: 242, Loss: 0.01511368528008461, Accuracy: 1.0\n",
            "Epoch: 243, Loss: 0.015051581896841526, Accuracy: 1.0\n",
            "Epoch: 244, Loss: 0.014989987015724182, Accuracy: 1.0\n",
            "Epoch: 245, Loss: 0.014928891323506832, Accuracy: 1.0\n",
            "Epoch: 246, Loss: 0.014868294820189476, Accuracy: 1.0\n",
            "Epoch: 247, Loss: 0.01480819657444954, Accuracy: 1.0\n",
            "Epoch: 248, Loss: 0.014748587273061275, Accuracy: 1.0\n",
            "Epoch: 249, Loss: 0.014689445495605469, Accuracy: 1.0\n",
            "Epoch: 250, Loss: 0.014630789868533611, Accuracy: 1.0\n",
            "Epoch: 251, Loss: 0.014572600834071636, Accuracy: 1.0\n",
            "Epoch: 252, Loss: 0.014514866285026073, Accuracy: 1.0\n",
            "Epoch: 253, Loss: 0.014457590878009796, Accuracy: 1.0\n",
            "Epoch: 254, Loss: 0.014400769956409931, Accuracy: 1.0\n",
            "Epoch: 255, Loss: 0.014344396069645882, Accuracy: 1.0\n",
            "Epoch: 256, Loss: 0.01428846176713705, Accuracy: 1.0\n",
            "Epoch: 257, Loss: 0.01423296146094799, Accuracy: 1.0\n",
            "Epoch: 258, Loss: 0.014177892357110977, Accuracy: 1.0\n",
            "Epoch: 259, Loss: 0.01412324421107769, Accuracy: 1.0\n",
            "Epoch: 260, Loss: 0.014069020748138428, Accuracy: 1.0\n",
            "Epoch: 261, Loss: 0.014015212655067444, Accuracy: 1.0\n",
            "Epoch: 262, Loss: 0.013961813412606716, Accuracy: 1.0\n",
            "Epoch: 263, Loss: 0.01390882208943367, Accuracy: 1.0\n",
            "Epoch: 264, Loss: 0.013856224715709686, Accuracy: 1.0\n",
            "Epoch: 265, Loss: 0.013804030604660511, Accuracy: 1.0\n",
            "Epoch: 266, Loss: 0.013752223923802376, Accuracy: 1.0\n",
            "Epoch: 267, Loss: 0.013700809329748154, Accuracy: 1.0\n",
            "Epoch: 268, Loss: 0.013649770990014076, Accuracy: 1.0\n",
            "Epoch: 269, Loss: 0.013599109835922718, Accuracy: 1.0\n",
            "Epoch: 270, Loss: 0.013548824936151505, Accuracy: 1.0\n",
            "Epoch: 271, Loss: 0.013498911634087563, Accuracy: 1.0\n",
            "Epoch: 272, Loss: 0.013449368998408318, Accuracy: 1.0\n",
            "Epoch: 273, Loss: 0.013400182127952576, Accuracy: 1.0\n",
            "Epoch: 274, Loss: 0.013351349160075188, Accuracy: 1.0\n",
            "Epoch: 275, Loss: 0.01330287754535675, Accuracy: 1.0\n",
            "Epoch: 276, Loss: 0.013254751451313496, Accuracy: 1.0\n",
            "Epoch: 277, Loss: 0.013206970877945423, Accuracy: 1.0\n",
            "Epoch: 278, Loss: 0.013159533031284809, Accuracy: 1.0\n",
            "Epoch: 279, Loss: 0.013112432323396206, Accuracy: 1.0\n",
            "Epoch: 280, Loss: 0.013065667822957039, Accuracy: 1.0\n",
            "Epoch: 281, Loss: 0.013019233010709286, Accuracy: 1.0\n",
            "Epoch: 282, Loss: 0.012973122298717499, Accuracy: 1.0\n",
            "Epoch: 283, Loss: 0.01292734406888485, Accuracy: 1.0\n",
            "Epoch: 284, Loss: 0.012881881557404995, Accuracy: 1.0\n",
            "Epoch: 285, Loss: 0.012836739420890808, Accuracy: 1.0\n",
            "Epoch: 286, Loss: 0.012791896238923073, Accuracy: 1.0\n",
            "Epoch: 287, Loss: 0.012747379019856453, Accuracy: 1.0\n",
            "Epoch: 288, Loss: 0.012703163549304008, Accuracy: 1.0\n",
            "Epoch: 289, Loss: 0.01265924982726574, Accuracy: 1.0\n",
            "Epoch: 290, Loss: 0.012615644372999668, Accuracy: 1.0\n",
            "Epoch: 291, Loss: 0.012572328560054302, Accuracy: 1.0\n",
            "Epoch: 292, Loss: 0.012529308907687664, Accuracy: 1.0\n",
            "Epoch: 293, Loss: 0.012486583553254604, Accuracy: 1.0\n",
            "Epoch: 294, Loss: 0.012444145046174526, Accuracy: 1.0\n",
            "Epoch: 295, Loss: 0.012401995249092579, Accuracy: 1.0\n",
            "Epoch: 296, Loss: 0.012360118329524994, Accuracy: 1.0\n",
            "Epoch: 297, Loss: 0.01231853011995554, Accuracy: 1.0\n",
            "Epoch: 298, Loss: 0.012277213856577873, Accuracy: 1.0\n",
            "Epoch: 299, Loss: 0.012236173264682293, Accuracy: 1.0\n",
            "Epoch: 300, Loss: 0.01219540648162365, Accuracy: 1.0\n",
            "Epoch: 301, Loss: 0.012154906056821346, Accuracy: 1.0\n",
            "Epoch: 302, Loss: 0.012114670127630234, Accuracy: 1.0\n",
            "Epoch: 303, Loss: 0.012074694968760014, Accuracy: 1.0\n",
            "Epoch: 304, Loss: 0.012034986168146133, Accuracy: 1.0\n",
            "Epoch: 305, Loss: 0.011995531618595123, Accuracy: 1.0\n",
            "Epoch: 306, Loss: 0.011956334114074707, Accuracy: 1.0\n",
            "Epoch: 307, Loss: 0.011917388066649437, Accuracy: 1.0\n",
            "Epoch: 308, Loss: 0.011878696270287037, Accuracy: 1.0\n",
            "Epoch: 309, Loss: 0.011840246617794037, Accuracy: 1.0\n",
            "Epoch: 310, Loss: 0.011802044697105885, Accuracy: 1.0\n",
            "Epoch: 311, Loss: 0.011764089576900005, Accuracy: 1.0\n",
            "Epoch: 312, Loss: 0.011726368218660355, Accuracy: 1.0\n",
            "Epoch: 313, Loss: 0.011688889004290104, Accuracy: 1.0\n",
            "Epoch: 314, Loss: 0.011651648208498955, Accuracy: 1.0\n",
            "Epoch: 315, Loss: 0.011614639312028885, Accuracy: 1.0\n",
            "Epoch: 316, Loss: 0.011577856726944447, Accuracy: 1.0\n",
            "Epoch: 317, Loss: 0.011541311629116535, Accuracy: 1.0\n",
            "Epoch: 318, Loss: 0.011504990048706532, Accuracy: 1.0\n",
            "Epoch: 319, Loss: 0.011468893848359585, Accuracy: 1.0\n",
            "Epoch: 320, Loss: 0.01143302209675312, Accuracy: 1.0\n",
            "Epoch: 321, Loss: 0.011397370137274265, Accuracy: 1.0\n",
            "Epoch: 322, Loss: 0.011361941695213318, Accuracy: 1.0\n",
            "Epoch: 323, Loss: 0.011326723732054234, Accuracy: 1.0\n",
            "Epoch: 324, Loss: 0.011291720904409885, Accuracy: 1.0\n",
            "Epoch: 325, Loss: 0.011256935074925423, Accuracy: 1.0\n",
            "Epoch: 326, Loss: 0.011222355999052525, Accuracy: 1.0\n",
            "Epoch: 327, Loss: 0.011187989264726639, Accuracy: 1.0\n",
            "Epoch: 328, Loss: 0.011153826490044594, Accuracy: 1.0\n",
            "Epoch: 329, Loss: 0.011119868606328964, Accuracy: 1.0\n",
            "Epoch: 330, Loss: 0.011086120270192623, Accuracy: 1.0\n",
            "Epoch: 331, Loss: 0.011052567511796951, Accuracy: 1.0\n",
            "Epoch: 332, Loss: 0.011019212193787098, Accuracy: 1.0\n",
            "Epoch: 333, Loss: 0.010986058972775936, Accuracy: 1.0\n",
            "Epoch: 334, Loss: 0.010953097604215145, Accuracy: 1.0\n",
            "Epoch: 335, Loss: 0.010920342057943344, Accuracy: 1.0\n",
            "Epoch: 336, Loss: 0.010887766256928444, Accuracy: 1.0\n",
            "Epoch: 337, Loss: 0.010855386033654213, Accuracy: 1.0\n",
            "Epoch: 338, Loss: 0.010823194868862629, Accuracy: 1.0\n",
            "Epoch: 339, Loss: 0.010791192762553692, Accuracy: 1.0\n",
            "Epoch: 340, Loss: 0.010759372264146805, Accuracy: 1.0\n",
            "Epoch: 341, Loss: 0.010727738961577415, Accuracy: 1.0\n",
            "Epoch: 342, Loss: 0.010696287266910076, Accuracy: 1.0\n",
            "Epoch: 343, Loss: 0.010665017180144787, Accuracy: 1.0\n",
            "Epoch: 344, Loss: 0.010633925907313824, Accuracy: 1.0\n",
            "Epoch: 345, Loss: 0.010603014379739761, Accuracy: 1.0\n",
            "Epoch: 346, Loss: 0.010572275146842003, Accuracy: 1.0\n",
            "Epoch: 347, Loss: 0.010541713796555996, Accuracy: 1.0\n",
            "Epoch: 348, Loss: 0.010511324740946293, Accuracy: 1.0\n",
            "Epoch: 349, Loss: 0.01048110518604517, Accuracy: 1.0\n",
            "Epoch: 350, Loss: 0.010451061651110649, Accuracy: 1.0\n",
            "Epoch: 351, Loss: 0.01042118202894926, Accuracy: 1.0\n",
            "Epoch: 352, Loss: 0.010391470976173878, Accuracy: 1.0\n",
            "Epoch: 353, Loss: 0.010361924767494202, Accuracy: 1.0\n",
            "Epoch: 354, Loss: 0.010332541540265083, Accuracy: 1.0\n",
            "Epoch: 355, Loss: 0.010303327813744545, Accuracy: 1.0\n",
            "Epoch: 356, Loss: 0.010274266824126244, Accuracy: 1.0\n",
            "Epoch: 357, Loss: 0.010245374403893948, Accuracy: 1.0\n",
            "Epoch: 358, Loss: 0.010216639377176762, Accuracy: 1.0\n",
            "Epoch: 359, Loss: 0.010188066400587559, Accuracy: 1.0\n",
            "Epoch: 360, Loss: 0.010159642435610294, Accuracy: 1.0\n",
            "Epoch: 361, Loss: 0.01013137772679329, Accuracy: 1.0\n",
            "Epoch: 362, Loss: 0.010103263892233372, Accuracy: 1.0\n",
            "Epoch: 363, Loss: 0.010075307451188564, Accuracy: 1.0\n",
            "Epoch: 364, Loss: 0.010047497227787971, Accuracy: 1.0\n",
            "Epoch: 365, Loss: 0.01001984067261219, Accuracy: 1.0\n",
            "Epoch: 366, Loss: 0.009992332197725773, Accuracy: 1.0\n",
            "Epoch: 367, Loss: 0.00996496994048357, Accuracy: 1.0\n",
            "Epoch: 368, Loss: 0.009937752969563007, Accuracy: 1.0\n",
            "Epoch: 369, Loss: 0.00991068035364151, Accuracy: 1.0\n",
            "Epoch: 370, Loss: 0.009883757680654526, Accuracy: 1.0\n",
            "Epoch: 371, Loss: 0.009856975637376308, Accuracy: 1.0\n",
            "Epoch: 372, Loss: 0.009830336086452007, Accuracy: 1.0\n",
            "Epoch: 373, Loss: 0.009803838096559048, Accuracy: 1.0\n",
            "Epoch: 374, Loss: 0.00977747980505228, Accuracy: 1.0\n",
            "Epoch: 375, Loss: 0.009751257486641407, Accuracy: 1.0\n",
            "Epoch: 376, Loss: 0.009725173935294151, Accuracy: 1.0\n",
            "Epoch: 377, Loss: 0.009699223563075066, Accuracy: 1.0\n",
            "Epoch: 378, Loss: 0.009673413820564747, Accuracy: 1.0\n",
            "Epoch: 379, Loss: 0.009647729806602001, Accuracy: 1.0\n",
            "Epoch: 380, Loss: 0.009622187353670597, Accuracy: 1.0\n",
            "Epoch: 381, Loss: 0.00959677156060934, Accuracy: 1.0\n",
            "Epoch: 382, Loss: 0.009571492671966553, Accuracy: 1.0\n",
            "Epoch: 383, Loss: 0.009546338580548763, Accuracy: 1.0\n",
            "Epoch: 384, Loss: 0.009521318599581718, Accuracy: 1.0\n",
            "Epoch: 385, Loss: 0.009496418759226799, Accuracy: 1.0\n",
            "Epoch: 386, Loss: 0.00947165209800005, Accuracy: 1.0\n",
            "Epoch: 387, Loss: 0.009447012096643448, Accuracy: 1.0\n",
            "Epoch: 388, Loss: 0.009422496892511845, Accuracy: 1.0\n",
            "Epoch: 389, Loss: 0.009398101828992367, Accuracy: 1.0\n",
            "Epoch: 390, Loss: 0.009373833425343037, Accuracy: 1.0\n",
            "Epoch: 391, Loss: 0.009349680505692959, Accuracy: 1.0\n",
            "Epoch: 392, Loss: 0.009325661696493626, Accuracy: 1.0\n",
            "Epoch: 393, Loss: 0.009301756508648396, Accuracy: 1.0\n",
            "Epoch: 394, Loss: 0.009277970530092716, Accuracy: 1.0\n",
            "Epoch: 395, Loss: 0.009254305623471737, Accuracy: 1.0\n",
            "Epoch: 396, Loss: 0.00923075433820486, Accuracy: 1.0\n",
            "Epoch: 397, Loss: 0.00920732319355011, Accuracy: 1.0\n",
            "Epoch: 398, Loss: 0.009184003807604313, Accuracy: 1.0\n",
            "Epoch: 399, Loss: 0.009160800836980343, Accuracy: 1.0\n",
            "Epoch: 400, Loss: 0.009137715213000774, Accuracy: 1.0\n",
            "Epoch: 401, Loss: 0.009114740416407585, Accuracy: 1.0\n",
            "Epoch: 402, Loss: 0.00909187737852335, Accuracy: 1.0\n",
            "Epoch: 403, Loss: 0.009069126099348068, Accuracy: 1.0\n",
            "Epoch: 404, Loss: 0.009046485647559166, Accuracy: 1.0\n",
            "Epoch: 405, Loss: 0.009023957885801792, Accuracy: 1.0\n",
            "Epoch: 406, Loss: 0.009001537226140499, Accuracy: 1.0\n",
            "Epoch: 407, Loss: 0.008979232050478458, Accuracy: 1.0\n",
            "Epoch: 408, Loss: 0.008957026526331902, Accuracy: 1.0\n",
            "Epoch: 409, Loss: 0.00893492717295885, Accuracy: 1.0\n",
            "Epoch: 410, Loss: 0.008912935853004456, Accuracy: 1.0\n",
            "Epoch: 411, Loss: 0.008891052566468716, Accuracy: 1.0\n",
            "Epoch: 412, Loss: 0.008869273588061333, Accuracy: 1.0\n",
            "Epoch: 413, Loss: 0.008847597055137157, Accuracy: 1.0\n",
            "Epoch: 414, Loss: 0.00882602296769619, Accuracy: 1.0\n",
            "Epoch: 415, Loss: 0.00880454946309328, Accuracy: 1.0\n",
            "Epoch: 416, Loss: 0.008783182129263878, Accuracy: 1.0\n",
            "Epoch: 417, Loss: 0.008761914446949959, Accuracy: 1.0\n",
            "Epoch: 418, Loss: 0.008740746416151524, Accuracy: 1.0\n",
            "Epoch: 419, Loss: 0.008719679899513721, Accuracy: 1.0\n",
            "Epoch: 420, Loss: 0.008698704652488232, Accuracy: 1.0\n",
            "Epoch: 421, Loss: 0.00867783185094595, Accuracy: 1.0\n",
            "Epoch: 422, Loss: 0.008657057769596577, Accuracy: 1.0\n",
            "Epoch: 423, Loss: 0.008636378683149815, Accuracy: 1.0\n",
            "Epoch: 424, Loss: 0.008615800179541111, Accuracy: 1.0\n",
            "Epoch: 425, Loss: 0.008595314808189869, Accuracy: 1.0\n",
            "Epoch: 426, Loss: 0.008574921637773514, Accuracy: 1.0\n",
            "Epoch: 427, Loss: 0.008554626256227493, Accuracy: 1.0\n",
            "Epoch: 428, Loss: 0.008534422144293785, Accuracy: 1.0\n",
            "Epoch: 429, Loss: 0.008514311164617538, Accuracy: 1.0\n",
            "Epoch: 430, Loss: 0.008494291454553604, Accuracy: 1.0\n",
            "Epoch: 431, Loss: 0.008474363014101982, Accuracy: 1.0\n",
            "Epoch: 432, Loss: 0.008454528637230396, Accuracy: 1.0\n",
            "Epoch: 433, Loss: 0.0084347790107131, Accuracy: 1.0\n",
            "Epoch: 434, Loss: 0.008415118791162968, Accuracy: 1.0\n",
            "Epoch: 435, Loss: 0.008395548909902573, Accuracy: 1.0\n",
            "Epoch: 436, Loss: 0.00837607029825449, Accuracy: 1.0\n",
            "Epoch: 437, Loss: 0.00835668295621872, Accuracy: 1.0\n",
            "Epoch: 438, Loss: 0.008337375707924366, Accuracy: 1.0\n",
            "Epoch: 439, Loss: 0.008318157866597176, Accuracy: 1.0\n",
            "Epoch: 440, Loss: 0.00829902570694685, Accuracy: 1.0\n",
            "Epoch: 441, Loss: 0.008279980160295963, Accuracy: 1.0\n",
            "Epoch: 442, Loss: 0.008261015638709068, Accuracy: 1.0\n",
            "Epoch: 443, Loss: 0.008242141455411911, Accuracy: 1.0\n",
            "Epoch: 444, Loss: 0.008223343640565872, Accuracy: 1.0\n",
            "Epoch: 445, Loss: 0.008204632438719273, Accuracy: 1.0\n",
            "Epoch: 446, Loss: 0.008186007849872112, Accuracy: 1.0\n",
            "Epoch: 447, Loss: 0.008167460560798645, Accuracy: 1.0\n",
            "Epoch: 448, Loss: 0.00814899429678917, Accuracy: 1.0\n",
            "Epoch: 449, Loss: 0.008130612783133984, Accuracy: 1.0\n",
            "Epoch: 450, Loss: 0.008112309500575066, Accuracy: 1.0\n",
            "Epoch: 451, Loss: 0.00809408724308014, Accuracy: 1.0\n",
            "Epoch: 452, Loss: 0.008075946010649204, Accuracy: 1.0\n",
            "Epoch: 453, Loss: 0.008057883009314537, Accuracy: 1.0\n",
            "Epoch: 454, Loss: 0.008039896376430988, Accuracy: 1.0\n",
            "Epoch: 455, Loss: 0.008021993562579155, Accuracy: 1.0\n",
            "Epoch: 456, Loss: 0.00800415687263012, Accuracy: 1.0\n",
            "Epoch: 457, Loss: 0.00798640213906765, Accuracy: 1.0\n",
            "Epoch: 458, Loss: 0.007968725636601448, Accuracy: 1.0\n",
            "Epoch: 459, Loss: 0.007951125502586365, Accuracy: 1.0\n",
            "Epoch: 460, Loss: 0.007933598011732101, Accuracy: 1.0\n",
            "Epoch: 461, Loss: 0.007916146889328957, Accuracy: 1.0\n",
            "Epoch: 462, Loss: 0.007898767478764057, Accuracy: 1.0\n",
            "Epoch: 463, Loss: 0.007881471887230873, Accuracy: 1.0\n",
            "Epoch: 464, Loss: 0.007864235900342464, Accuracy: 1.0\n",
            "Epoch: 465, Loss: 0.007847080007195473, Accuracy: 1.0\n",
            "Epoch: 466, Loss: 0.007829995825886726, Accuracy: 1.0\n",
            "Epoch: 467, Loss: 0.007812987081706524, Accuracy: 1.0\n",
            "Epoch: 468, Loss: 0.007796042133122683, Accuracy: 1.0\n",
            "Epoch: 469, Loss: 0.007779177278280258, Accuracy: 1.0\n",
            "Epoch: 470, Loss: 0.0077623771503567696, Accuracy: 1.0\n",
            "Epoch: 471, Loss: 0.007745653390884399, Accuracy: 1.0\n",
            "Epoch: 472, Loss: 0.00772899528965354, Accuracy: 1.0\n",
            "Epoch: 473, Loss: 0.007712405640631914, Accuracy: 1.0\n",
            "Epoch: 474, Loss: 0.007695887237787247, Accuracy: 1.0\n",
            "Epoch: 475, Loss: 0.00767943263053894, Accuracy: 1.0\n",
            "Epoch: 476, Loss: 0.0076630511321127415, Accuracy: 1.0\n",
            "Epoch: 477, Loss: 0.007646738085895777, Accuracy: 1.0\n",
            "Epoch: 478, Loss: 0.007630487903952599, Accuracy: 1.0\n",
            "Epoch: 479, Loss: 0.007614313159137964, Accuracy: 1.0\n",
            "Epoch: 480, Loss: 0.007598198484629393, Accuracy: 1.0\n",
            "Epoch: 481, Loss: 0.007582145743072033, Accuracy: 1.0\n",
            "Epoch: 482, Loss: 0.007566165644675493, Accuracy: 1.0\n",
            "Epoch: 483, Loss: 0.007550247013568878, Accuracy: 1.0\n",
            "Epoch: 484, Loss: 0.007534391712397337, Accuracy: 1.0\n",
            "Epoch: 485, Loss: 0.00751860486343503, Accuracy: 1.0\n",
            "Epoch: 486, Loss: 0.0075028762221336365, Accuracy: 1.0\n",
            "Epoch: 487, Loss: 0.007487217430025339, Accuracy: 1.0\n",
            "Epoch: 488, Loss: 0.007471627090126276, Accuracy: 1.0\n",
            "Epoch: 489, Loss: 0.007456088904291391, Accuracy: 1.0\n",
            "Epoch: 490, Loss: 0.007440616842359304, Accuracy: 1.0\n",
            "Epoch: 491, Loss: 0.007425209507346153, Accuracy: 1.0\n",
            "Epoch: 492, Loss: 0.007409863639622927, Accuracy: 1.0\n",
            "Epoch: 493, Loss: 0.0073945727199316025, Accuracy: 1.0\n",
            "Epoch: 494, Loss: 0.007379348389804363, Accuracy: 1.0\n",
            "Epoch: 495, Loss: 0.007364183664321899, Accuracy: 1.0\n",
            "Epoch: 496, Loss: 0.007349084597080946, Accuracy: 1.0\n",
            "Epoch: 497, Loss: 0.007334037683904171, Accuracy: 1.0\n",
            "Epoch: 498, Loss: 0.007319054566323757, Accuracy: 1.0\n",
            "Epoch: 499, Loss: 0.00730412732809782, Accuracy: 1.0\n"
          ]
        }
      ]
    },
    {
      "cell_type": "markdown",
      "metadata": {
        "id": "WX2PSXnTDiNi"
      },
      "source": [
        "## Visualize the final node embeddings\n",
        "Visualize your final embedding here!\n",
        "You can visually compare the figure with the previous embedding figure.\n",
        "After training, you should oberserve that the two classes are more evidently separated.\n",
        "This is a great sanitity check for your implementation as well."
      ]
    },
    {
      "cell_type": "code",
      "metadata": {
        "id": "MtNgl4VhYKow",
        "colab": {
          "base_uri": "https://localhost:8080/",
          "height": 522
        },
        "outputId": "1bf68c3e-2d33-4215-915a-dd854463a58b"
      },
      "source": [
        "# Visualize the final learned embedding\n",
        "visualize_emb(emb)"
      ],
      "execution_count": 48,
      "outputs": [
        {
          "output_type": "display_data",
          "data": {
            "text/plain": [
              "<Figure size 600x600 with 1 Axes>"
            ],
            "image/png": "[encoded data removed]"
          },
          "metadata": {}
        }
      ]
    },
    {
      "cell_type": "markdown",
      "metadata": {
        "id": "FTNyrAoSVeq9"
      },
      "source": [
        "# Submission"
      ]
    },
    {
      "cell_type": "markdown",
      "metadata": {
        "id": "E_E7J_GkVhY_"
      },
      "source": [
        "In order to get credit, you must go submit your answers on Gradescope."
      ]
    }
  ]
}